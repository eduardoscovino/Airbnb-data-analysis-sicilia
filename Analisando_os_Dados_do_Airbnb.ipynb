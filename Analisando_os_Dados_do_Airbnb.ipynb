{
  "nbformat": 4,
  "nbformat_minor": 0,
  "metadata": {
    "colab": {
      "name": "[Template] Analisando os Dados do Airbnb.ipynb",
      "provenance": [],
      "collapsed_sections": [],
      "toc_visible": true,
      "include_colab_link": true
    },
    "kernelspec": {
      "name": "python3",
      "display_name": "Python 3"
    }
  },
  "cells": [
    {
      "cell_type": "markdown",
      "metadata": {
        "id": "view-in-github",
        "colab_type": "text"
      },
      "source": [
        "<a href=\"https://colab.research.google.com/github/eduardoscovino/Airbnb-data-analysis-sicilia/blob/main/Analisando_os_Dados_do_Airbnb.ipynb\" target=\"_parent\"><img src=\"https://colab.research.google.com/assets/colab-badge.svg\" alt=\"Open In Colab\"/></a>"
      ]
    },
    {
      "cell_type": "markdown",
      "metadata": {
        "id": "kLI0gJtzDGuQ"
      },
      "source": [
        "# Análise dos Dados do Airbnb - *Sicília*\n",
        "*by Eduardo Scovino*\n",
        "\n",
        "---\n",
        "\n",
        "\n",
        "O [Airbnb](https://www.airbnb.com.br/) já é considerado como sendo a **maior empresa hoteleira da atualidade**. Ah, o detalhe é que ele **não possui nenhum hotel**!\n",
        "\n",
        "Conectando pessoas que querem viajar (e se hospedar) com anfitriões que querem alugar seus imóveis de maneira prática, o Airbnb fornece uma plataforma inovadora para tornar essa hospedagem alternativa.\n",
        "\n",
        "No final de 2018, a Startup fundada 10 anos atrás, já havia **hospedado mais de 300 milhões** de pessoas ao redor de todo o mundo, desafiando as redes hoteleiras tradicionais.\n",
        "\n",
        "Uma das iniciativas do Airbnb é disponibilizar dados do site, para algumas das principais cidades do mundo. Por meio do portal [Inside Airbnb](http://insideairbnb.com/get-the-data.html), é possível baixar uma grande quantidade de dados para desenvolver projetos e soluções de *Data Science*.\n",
        "\n",
        "<center><img alt=\"Analisando Airbnb\" width=\"10%\" src=\"https://www.area360.com.au/wp-content/uploads/2017/09/airbnb-logo.jpg\"></center>"
      ]
    },
    {
      "cell_type": "markdown",
      "source": [
        "# Sobre a Sicília\n",
        "\n",
        "<img alt=\"Sicily\" width=\"60%\" src=\"https://images.unsplash.com/photo-1523365154888-8a758819b722?ixlib=rb-1.2.1&ixid=MnwxMjA3fDB8MHxwaG90by1wYWdlfHx8fGVufDB8fHx8&auto=format&fit=crop&w=1469&q=80\">\n",
        "\n",
        "A Sicília é, certamente, um lugar que merece ser incluído no seu roteiro de viagem à Itália. Não existe um motivo, mas sim vários.\n",
        "\n",
        "Para quem gosta de praias, a Sicília é banhada por três mares: Tirreno, Mediterrâneo e Jônico. Possui praias listadas entre as mais bonitas do mundo, e opções não faltam nos quase 1500 km de praia na ilha.\n",
        "\n",
        "Possui uma história muito rica, pois já passarem pela ilha colonizadores de várias das mais importantes civilizações da humanidade, como gregos, romanos, fenícios, bizantinos, árabes, dentre outros. O que nos leva a imaginar que há vários monumentos históricos e ruínas desses povos, sendo alguns deles patrimônios da humanidade.\n",
        "\n",
        "Para quem gosta de gastronomia, a cozinha siciliana é uma das melhores da Itália, muito em detrimento da variedade vinda das diversas influências que passaram pela região.\n",
        "\n",
        "Com tudo isso, é de se imaginar que o turismo seja bem forte na Sicília. Assim, opções de airbnb não devem faltar por lá...\n",
        "\n",
        "Para conhecer mais sobre a Sicília, recomendo este [blog](https://descobrindoasicilia.com/10-motivos-para-incluir-a-sicilia-na-sua-viagem-a-italia/).\n",
        "\n",
        "**Neste *notebook*, iremos analisar os dados das aloções do airbnb para a Sicília, na Itália, e ver quais insights podem ser extraídos na busca pela opção ideal.**"
      ],
      "metadata": {
        "id": "tih0G_VZGLzL"
      }
    },
    {
      "cell_type": "markdown",
      "source": [
        "# A análise"
      ],
      "metadata": {
        "id": "jnyDth9CVMbO"
      }
    },
    {
      "cell_type": "markdown",
      "source": [
        "A análise será dividida nas seguintes etapas:\n",
        "\n",
        "`1) Data discovery:` Importação das bibliotecas que serão utilizadas, leitura do dataset, dicionarização das variáveis e identificação das tipagens;\n",
        "\n",
        "`2) Verificação de dados nulos:` Checagem de valores nulos e avaliação se alguma coluna pode ser excluída do dataset devido à pouca relevância;\n",
        "\n",
        "`3) Tratamento de outliers:` Verificação de outliers e posterior limpeza do dataset para uma análise mais assertiva;\n",
        "\n",
        "`4) Correlação:` Matriz para identificar variáveis com forte correlação;\n",
        "\n",
        "`5) Preços dos imóveis:` Foco nos insights relacionados com a variável `price`;\n",
        "\n",
        "`6) Busca pela estadia ideal:` Determinação das melhores opções nos maiores centros da ilha;\n",
        "\n",
        "`7) Conclusão`"
      ],
      "metadata": {
        "id": "0UyAflRhKPPN"
      }
    },
    {
      "cell_type": "markdown",
      "source": [
        "# 1) Data Discovery"
      ],
      "metadata": {
        "id": "OOnSX3sRJiqP"
      }
    },
    {
      "cell_type": "markdown",
      "metadata": {
        "id": "0zxQHhIUDF_2"
      },
      "source": [
        "## Importação das bibliotecas e leitura do dataset\n"
      ]
    },
    {
      "cell_type": "code",
      "metadata": {
        "id": "Vhp2wMPgJ6zX"
      },
      "source": [
        "import pandas as pd\n",
        "from matplotlib import pyplot as plt\n",
        "import numpy as np\n",
        "import seaborn as sns"
      ],
      "execution_count": null,
      "outputs": []
    },
    {
      "cell_type": "code",
      "metadata": {
        "id": "tUmoAT8DLQ5T"
      },
      "source": [
        "df = pd.read_csv('http://data.insideairbnb.com/italy/sicilia/sicily/2021-12-28/visualisations/listings.csv')"
      ],
      "execution_count": null,
      "outputs": []
    },
    {
      "cell_type": "markdown",
      "metadata": {
        "id": "RYgvuebKNg8-"
      },
      "source": [
        "## Dicionário das variáveis e primeiras 5 linhas da tabela\n",
        "\n",
        "* `id`: id único da alocação\n",
        "* `name`: nome da alocação\n",
        "* `host_id`: id único do host\n",
        "* `host_name`: nome do host\n",
        "* `neighbourhood_group`: contém apenas valores nulos\n",
        "* `neighbourhood`: bairro da alocação\n",
        "* `latitude`: latitude da alocação\n",
        "* `longitude`: longitude da alocação\n",
        "* `room_type`: tipo de alocação (quarto privado, apto inteiro, quarto compartilhado, etc.)\n",
        "* `price`: preço da alocação (moeda não especificada)\n",
        "* `minimum_nights`: mínimo de noites para efetuar a reserva\n",
        "* `number of reviews`: número de avaliações da alocação\n",
        "* `last_review`: data da última avaliação\n",
        "* `reviews_per_month`: média de avaliações por mês\n",
        "* `calculated_host_listings_count`: quantidade de alocações do host\n",
        "* `availability_365`: número de dias em que a alocação está disponível no ano\n",
        "* `number_of_reviews_ltm`: número de avaliações nos últimos 12 meses\n",
        "* `license`: licença da alocação"
      ]
    },
    {
      "cell_type": "code",
      "metadata": {
        "id": "2iS_dae7YQtO",
        "outputId": "cfc5ec2c-bf10-4818-d618-f46be92e700b",
        "colab": {
          "base_uri": "https://localhost:8080/",
          "height": 565
        }
      },
      "source": [
        "df.head()"
      ],
      "execution_count": null,
      "outputs": [
        {
          "output_type": "execute_result",
          "data": {
            "text/html": [
              "\n",
              "  <div id=\"df-3c0210a2-10df-43ae-834c-22b775ab3102\">\n",
              "    <div class=\"colab-df-container\">\n",
              "      <div>\n",
              "<style scoped>\n",
              "    .dataframe tbody tr th:only-of-type {\n",
              "        vertical-align: middle;\n",
              "    }\n",
              "\n",
              "    .dataframe tbody tr th {\n",
              "        vertical-align: top;\n",
              "    }\n",
              "\n",
              "    .dataframe thead th {\n",
              "        text-align: right;\n",
              "    }\n",
              "</style>\n",
              "<table border=\"1\" class=\"dataframe\">\n",
              "  <thead>\n",
              "    <tr style=\"text-align: right;\">\n",
              "      <th></th>\n",
              "      <th>id</th>\n",
              "      <th>name</th>\n",
              "      <th>host_id</th>\n",
              "      <th>host_name</th>\n",
              "      <th>neighbourhood_group</th>\n",
              "      <th>neighbourhood</th>\n",
              "      <th>latitude</th>\n",
              "      <th>longitude</th>\n",
              "      <th>room_type</th>\n",
              "      <th>price</th>\n",
              "      <th>minimum_nights</th>\n",
              "      <th>number_of_reviews</th>\n",
              "      <th>last_review</th>\n",
              "      <th>reviews_per_month</th>\n",
              "      <th>calculated_host_listings_count</th>\n",
              "      <th>availability_365</th>\n",
              "      <th>number_of_reviews_ltm</th>\n",
              "      <th>license</th>\n",
              "    </tr>\n",
              "  </thead>\n",
              "  <tbody>\n",
              "    <tr>\n",
              "      <th>0</th>\n",
              "      <td>7011</td>\n",
              "      <td>SEASIDE - Historic Antique Residence</td>\n",
              "      <td>16888</td>\n",
              "      <td>Salinara Yu&amp;Ad</td>\n",
              "      <td>NaN</td>\n",
              "      <td>Marsala</td>\n",
              "      <td>37.84047</td>\n",
              "      <td>12.47778</td>\n",
              "      <td>Entire home/apt</td>\n",
              "      <td>200</td>\n",
              "      <td>3</td>\n",
              "      <td>31</td>\n",
              "      <td>2021-09-29</td>\n",
              "      <td>0.21</td>\n",
              "      <td>9</td>\n",
              "      <td>167</td>\n",
              "      <td>3</td>\n",
              "      <td>NaN</td>\n",
              "    </tr>\n",
              "    <tr>\n",
              "      <th>1</th>\n",
              "      <td>15371</td>\n",
              "      <td>Summer Holidays @ VILLA ROSA</td>\n",
              "      <td>58333</td>\n",
              "      <td>Gianluca</td>\n",
              "      <td>NaN</td>\n",
              "      <td>Petrosino</td>\n",
              "      <td>37.70821</td>\n",
              "      <td>12.51400</td>\n",
              "      <td>Entire home/apt</td>\n",
              "      <td>35</td>\n",
              "      <td>1</td>\n",
              "      <td>6</td>\n",
              "      <td>2016-08-26</td>\n",
              "      <td>0.07</td>\n",
              "      <td>1</td>\n",
              "      <td>364</td>\n",
              "      <td>0</td>\n",
              "      <td>NaN</td>\n",
              "    </tr>\n",
              "    <tr>\n",
              "      <th>2</th>\n",
              "      <td>22948</td>\n",
              "      <td>B&amp;B NEAR STATION ROOM WITH BALCONY</td>\n",
              "      <td>88837</td>\n",
              "      <td>Giuseppe</td>\n",
              "      <td>NaN</td>\n",
              "      <td>Agrigento</td>\n",
              "      <td>37.30885</td>\n",
              "      <td>13.58582</td>\n",
              "      <td>Private room</td>\n",
              "      <td>29</td>\n",
              "      <td>1</td>\n",
              "      <td>298</td>\n",
              "      <td>2021-11-29</td>\n",
              "      <td>2.37</td>\n",
              "      <td>3</td>\n",
              "      <td>347</td>\n",
              "      <td>35</td>\n",
              "      <td>NaN</td>\n",
              "    </tr>\n",
              "    <tr>\n",
              "      <th>3</th>\n",
              "      <td>28379</td>\n",
              "      <td>Apartment in Taormina - Rinaldo</td>\n",
              "      <td>121867</td>\n",
              "      <td>Francesca</td>\n",
              "      <td>NaN</td>\n",
              "      <td>Taormina</td>\n",
              "      <td>37.85172</td>\n",
              "      <td>15.28420</td>\n",
              "      <td>Entire home/apt</td>\n",
              "      <td>74</td>\n",
              "      <td>2</td>\n",
              "      <td>272</td>\n",
              "      <td>2021-11-04</td>\n",
              "      <td>1.96</td>\n",
              "      <td>5</td>\n",
              "      <td>303</td>\n",
              "      <td>18</td>\n",
              "      <td>NaN</td>\n",
              "    </tr>\n",
              "    <tr>\n",
              "      <th>4</th>\n",
              "      <td>35264</td>\n",
              "      <td>Etna-sea a panoramic villa</td>\n",
              "      <td>151644</td>\n",
              "      <td>Serena</td>\n",
              "      <td>NaN</td>\n",
              "      <td>Piedimonte Etneo</td>\n",
              "      <td>37.82464</td>\n",
              "      <td>15.15739</td>\n",
              "      <td>Entire home/apt</td>\n",
              "      <td>164</td>\n",
              "      <td>2</td>\n",
              "      <td>144</td>\n",
              "      <td>2021-09-10</td>\n",
              "      <td>1.03</td>\n",
              "      <td>4</td>\n",
              "      <td>360</td>\n",
              "      <td>2</td>\n",
              "      <td>NaN</td>\n",
              "    </tr>\n",
              "  </tbody>\n",
              "</table>\n",
              "</div>\n",
              "      <button class=\"colab-df-convert\" onclick=\"convertToInteractive('df-3c0210a2-10df-43ae-834c-22b775ab3102')\"\n",
              "              title=\"Convert this dataframe to an interactive table.\"\n",
              "              style=\"display:none;\">\n",
              "        \n",
              "  <svg xmlns=\"http://www.w3.org/2000/svg\" height=\"24px\"viewBox=\"0 0 24 24\"\n",
              "       width=\"24px\">\n",
              "    <path d=\"M0 0h24v24H0V0z\" fill=\"none\"/>\n",
              "    <path d=\"M18.56 5.44l.94 2.06.94-2.06 2.06-.94-2.06-.94-.94-2.06-.94 2.06-2.06.94zm-11 1L8.5 8.5l.94-2.06 2.06-.94-2.06-.94L8.5 2.5l-.94 2.06-2.06.94zm10 10l.94 2.06.94-2.06 2.06-.94-2.06-.94-.94-2.06-.94 2.06-2.06.94z\"/><path d=\"M17.41 7.96l-1.37-1.37c-.4-.4-.92-.59-1.43-.59-.52 0-1.04.2-1.43.59L10.3 9.45l-7.72 7.72c-.78.78-.78 2.05 0 2.83L4 21.41c.39.39.9.59 1.41.59.51 0 1.02-.2 1.41-.59l7.78-7.78 2.81-2.81c.8-.78.8-2.07 0-2.86zM5.41 20L4 18.59l7.72-7.72 1.47 1.35L5.41 20z\"/>\n",
              "  </svg>\n",
              "      </button>\n",
              "      \n",
              "  <style>\n",
              "    .colab-df-container {\n",
              "      display:flex;\n",
              "      flex-wrap:wrap;\n",
              "      gap: 12px;\n",
              "    }\n",
              "\n",
              "    .colab-df-convert {\n",
              "      background-color: #E8F0FE;\n",
              "      border: none;\n",
              "      border-radius: 50%;\n",
              "      cursor: pointer;\n",
              "      display: none;\n",
              "      fill: #1967D2;\n",
              "      height: 32px;\n",
              "      padding: 0 0 0 0;\n",
              "      width: 32px;\n",
              "    }\n",
              "\n",
              "    .colab-df-convert:hover {\n",
              "      background-color: #E2EBFA;\n",
              "      box-shadow: 0px 1px 2px rgba(60, 64, 67, 0.3), 0px 1px 3px 1px rgba(60, 64, 67, 0.15);\n",
              "      fill: #174EA6;\n",
              "    }\n",
              "\n",
              "    [theme=dark] .colab-df-convert {\n",
              "      background-color: #3B4455;\n",
              "      fill: #D2E3FC;\n",
              "    }\n",
              "\n",
              "    [theme=dark] .colab-df-convert:hover {\n",
              "      background-color: #434B5C;\n",
              "      box-shadow: 0px 1px 3px 1px rgba(0, 0, 0, 0.15);\n",
              "      filter: drop-shadow(0px 1px 2px rgba(0, 0, 0, 0.3));\n",
              "      fill: #FFFFFF;\n",
              "    }\n",
              "  </style>\n",
              "\n",
              "      <script>\n",
              "        const buttonEl =\n",
              "          document.querySelector('#df-3c0210a2-10df-43ae-834c-22b775ab3102 button.colab-df-convert');\n",
              "        buttonEl.style.display =\n",
              "          google.colab.kernel.accessAllowed ? 'block' : 'none';\n",
              "\n",
              "        async function convertToInteractive(key) {\n",
              "          const element = document.querySelector('#df-3c0210a2-10df-43ae-834c-22b775ab3102');\n",
              "          const dataTable =\n",
              "            await google.colab.kernel.invokeFunction('convertToInteractive',\n",
              "                                                     [key], {});\n",
              "          if (!dataTable) return;\n",
              "\n",
              "          const docLinkHtml = 'Like what you see? Visit the ' +\n",
              "            '<a target=\"_blank\" href=https://colab.research.google.com/notebooks/data_table.ipynb>data table notebook</a>'\n",
              "            + ' to learn more about interactive tables.';\n",
              "          element.innerHTML = '';\n",
              "          dataTable['output_type'] = 'display_data';\n",
              "          await google.colab.output.renderOutput(dataTable, element);\n",
              "          const docLink = document.createElement('div');\n",
              "          docLink.innerHTML = docLinkHtml;\n",
              "          element.appendChild(docLink);\n",
              "        }\n",
              "      </script>\n",
              "    </div>\n",
              "  </div>\n",
              "  "
            ],
            "text/plain": [
              "      id                                  name  ...  number_of_reviews_ltm license\n",
              "0   7011  SEASIDE - Historic Antique Residence  ...                      3     NaN\n",
              "1  15371          Summer Holidays @ VILLA ROSA  ...                      0     NaN\n",
              "2  22948    B&B NEAR STATION ROOM WITH BALCONY  ...                     35     NaN\n",
              "3  28379       Apartment in Taormina - Rinaldo  ...                     18     NaN\n",
              "4  35264            Etna-sea a panoramic villa  ...                      2     NaN\n",
              "\n",
              "[5 rows x 18 columns]"
            ]
          },
          "metadata": {},
          "execution_count": 3
        }
      ]
    },
    {
      "cell_type": "markdown",
      "metadata": {
        "id": "6-B_qtEaYEd-"
      },
      "source": [
        "## Tamanho do dataset e tipagem das variáveis"
      ]
    },
    {
      "cell_type": "code",
      "metadata": {
        "id": "TFRK0tniLV-G",
        "outputId": "dbaf1544-d89c-4221-f304-1772d3cf4afe",
        "colab": {
          "base_uri": "https://localhost:8080/"
        }
      },
      "source": [
        "print('O dataset possui: ')\n",
        "print('{} entradas'.format(df.shape[0]))\n",
        "print('{} variáveis'.format(df.shape[1]))\n",
        "print('\\n')\n",
        "print('Abaixo estão listados os tipos de cada variável:')\n",
        "print(df.dtypes)"
      ],
      "execution_count": null,
      "outputs": [
        {
          "output_type": "stream",
          "name": "stdout",
          "text": [
            "O dataset possui: \n",
            "48066 entradas\n",
            "18 variáveis\n",
            "\n",
            "\n",
            "Abaixo estão listados os tipos de cada variável:\n",
            "id                                  int64\n",
            "name                               object\n",
            "host_id                             int64\n",
            "host_name                          object\n",
            "neighbourhood_group               float64\n",
            "neighbourhood                      object\n",
            "latitude                          float64\n",
            "longitude                         float64\n",
            "room_type                          object\n",
            "price                               int64\n",
            "minimum_nights                      int64\n",
            "number_of_reviews                   int64\n",
            "last_review                        object\n",
            "reviews_per_month                 float64\n",
            "calculated_host_listings_count      int64\n",
            "availability_365                    int64\n",
            "number_of_reviews_ltm               int64\n",
            "license                            object\n",
            "dtype: object\n"
          ]
        }
      ]
    },
    {
      "cell_type": "markdown",
      "source": [
        "# 2)Verificação de dados nulos"
      ],
      "metadata": {
        "id": "6iMh4agML8yd"
      }
    },
    {
      "cell_type": "markdown",
      "metadata": {
        "id": "yz1urSUGW9iE"
      },
      "source": [
        "## Qual é a porcentagem de valores ausentes no dataset?"
      ]
    },
    {
      "cell_type": "code",
      "metadata": {
        "id": "plk2FjbCXOqP",
        "outputId": "d2c295a9-8afe-4e31-e849-6ce5ffbe0fe8",
        "colab": {
          "base_uri": "https://localhost:8080/"
        }
      },
      "source": [
        "print(df.isnull().sum().sort_values(ascending=False) / df.shape[0])\n",
        "print('\\n')\n",
        "print('Conclusão: neighbourhood_group e license serão descartadas na análise, pois pela quantidade de valores nulo no dataset, nada acrescentam nos insights')\n",
        "\n",
        "\n",
        "# removendo neighbourhood_group e license, que são irrelevantes na análise\n",
        "df.drop(['neighbourhood_group', 'license'], axis=1, inplace=True)"
      ],
      "execution_count": null,
      "outputs": [
        {
          "output_type": "stream",
          "name": "stdout",
          "text": [
            "neighbourhood_group               1.000000\n",
            "license                           0.982025\n",
            "reviews_per_month                 0.305934\n",
            "last_review                       0.305934\n",
            "host_name                         0.001227\n",
            "name                              0.000062\n",
            "number_of_reviews                 0.000000\n",
            "number_of_reviews_ltm             0.000000\n",
            "availability_365                  0.000000\n",
            "calculated_host_listings_count    0.000000\n",
            "id                                0.000000\n",
            "minimum_nights                    0.000000\n",
            "room_type                         0.000000\n",
            "longitude                         0.000000\n",
            "latitude                          0.000000\n",
            "neighbourhood                     0.000000\n",
            "host_id                           0.000000\n",
            "price                             0.000000\n",
            "dtype: float64\n",
            "\n",
            "\n",
            "Conclusão: neighbourhood_group e license serão descartadas na análise, pois pela quantidade de valores nulo no dataset, nada acrescentam nos insights\n"
          ]
        }
      ]
    },
    {
      "cell_type": "markdown",
      "source": [
        "# 3) Tratamento de outliers"
      ],
      "metadata": {
        "id": "pN8e8Nr6Od-2"
      }
    },
    {
      "cell_type": "markdown",
      "metadata": {
        "id": "iHXvvHIxaoNc"
      },
      "source": [
        "## Vamos fazer uma abordagem preliminar de dados estatísticos básicos das variáveis numéricas\n",
        "\n",
        "Vimos anteriormente quais são as variáveis com tipagem de número. Vamos apenas excluir id e host_id, pois não faz sentido analisá-las agora."
      ]
    },
    {
      "cell_type": "code",
      "source": [
        "df[['price', 'minimum_nights', 'number_of_reviews', 'reviews_per_month', 'calculated_host_listings_count', 'availability_365', 'number_of_reviews_ltm']].describe()"
      ],
      "metadata": {
        "id": "CW_XvXAkVeyZ",
        "outputId": "d5fbd1c0-1ddf-4a8d-ce46-b7857c65704d",
        "colab": {
          "base_uri": "https://localhost:8080/",
          "height": 300
        }
      },
      "execution_count": null,
      "outputs": [
        {
          "output_type": "execute_result",
          "data": {
            "text/html": [
              "\n",
              "  <div id=\"df-47355c25-e06f-403a-960d-6e7ffb3c3abf\">\n",
              "    <div class=\"colab-df-container\">\n",
              "      <div>\n",
              "<style scoped>\n",
              "    .dataframe tbody tr th:only-of-type {\n",
              "        vertical-align: middle;\n",
              "    }\n",
              "\n",
              "    .dataframe tbody tr th {\n",
              "        vertical-align: top;\n",
              "    }\n",
              "\n",
              "    .dataframe thead th {\n",
              "        text-align: right;\n",
              "    }\n",
              "</style>\n",
              "<table border=\"1\" class=\"dataframe\">\n",
              "  <thead>\n",
              "    <tr style=\"text-align: right;\">\n",
              "      <th></th>\n",
              "      <th>price</th>\n",
              "      <th>minimum_nights</th>\n",
              "      <th>number_of_reviews</th>\n",
              "      <th>reviews_per_month</th>\n",
              "      <th>calculated_host_listings_count</th>\n",
              "      <th>availability_365</th>\n",
              "      <th>number_of_reviews_ltm</th>\n",
              "    </tr>\n",
              "  </thead>\n",
              "  <tbody>\n",
              "    <tr>\n",
              "      <th>count</th>\n",
              "      <td>48066.000000</td>\n",
              "      <td>48066.000000</td>\n",
              "      <td>48066.000000</td>\n",
              "      <td>33361.000000</td>\n",
              "      <td>48066.000000</td>\n",
              "      <td>48066.000000</td>\n",
              "      <td>48066.000000</td>\n",
              "    </tr>\n",
              "    <tr>\n",
              "      <th>mean</th>\n",
              "      <td>123.570903</td>\n",
              "      <td>3.140973</td>\n",
              "      <td>13.536367</td>\n",
              "      <td>0.510483</td>\n",
              "      <td>9.301793</td>\n",
              "      <td>251.685973</td>\n",
              "      <td>2.586506</td>\n",
              "    </tr>\n",
              "    <tr>\n",
              "      <th>std</th>\n",
              "      <td>545.896977</td>\n",
              "      <td>8.708326</td>\n",
              "      <td>32.696828</td>\n",
              "      <td>0.746587</td>\n",
              "      <td>28.459930</td>\n",
              "      <td>125.780672</td>\n",
              "      <td>5.728379</td>\n",
              "    </tr>\n",
              "    <tr>\n",
              "      <th>min</th>\n",
              "      <td>0.000000</td>\n",
              "      <td>1.000000</td>\n",
              "      <td>0.000000</td>\n",
              "      <td>0.010000</td>\n",
              "      <td>1.000000</td>\n",
              "      <td>0.000000</td>\n",
              "      <td>0.000000</td>\n",
              "    </tr>\n",
              "    <tr>\n",
              "      <th>25%</th>\n",
              "      <td>50.000000</td>\n",
              "      <td>1.000000</td>\n",
              "      <td>0.000000</td>\n",
              "      <td>0.100000</td>\n",
              "      <td>1.000000</td>\n",
              "      <td>177.000000</td>\n",
              "      <td>0.000000</td>\n",
              "    </tr>\n",
              "    <tr>\n",
              "      <th>50%</th>\n",
              "      <td>70.000000</td>\n",
              "      <td>2.000000</td>\n",
              "      <td>2.000000</td>\n",
              "      <td>0.240000</td>\n",
              "      <td>2.000000</td>\n",
              "      <td>303.000000</td>\n",
              "      <td>0.000000</td>\n",
              "    </tr>\n",
              "    <tr>\n",
              "      <th>75%</th>\n",
              "      <td>100.000000</td>\n",
              "      <td>3.000000</td>\n",
              "      <td>11.000000</td>\n",
              "      <td>0.590000</td>\n",
              "      <td>5.000000</td>\n",
              "      <td>363.000000</td>\n",
              "      <td>3.000000</td>\n",
              "    </tr>\n",
              "    <tr>\n",
              "      <th>max</th>\n",
              "      <td>21633.000000</td>\n",
              "      <td>999.000000</td>\n",
              "      <td>631.000000</td>\n",
              "      <td>11.130000</td>\n",
              "      <td>235.000000</td>\n",
              "      <td>365.000000</td>\n",
              "      <td>119.000000</td>\n",
              "    </tr>\n",
              "  </tbody>\n",
              "</table>\n",
              "</div>\n",
              "      <button class=\"colab-df-convert\" onclick=\"convertToInteractive('df-47355c25-e06f-403a-960d-6e7ffb3c3abf')\"\n",
              "              title=\"Convert this dataframe to an interactive table.\"\n",
              "              style=\"display:none;\">\n",
              "        \n",
              "  <svg xmlns=\"http://www.w3.org/2000/svg\" height=\"24px\"viewBox=\"0 0 24 24\"\n",
              "       width=\"24px\">\n",
              "    <path d=\"M0 0h24v24H0V0z\" fill=\"none\"/>\n",
              "    <path d=\"M18.56 5.44l.94 2.06.94-2.06 2.06-.94-2.06-.94-.94-2.06-.94 2.06-2.06.94zm-11 1L8.5 8.5l.94-2.06 2.06-.94-2.06-.94L8.5 2.5l-.94 2.06-2.06.94zm10 10l.94 2.06.94-2.06 2.06-.94-2.06-.94-.94-2.06-.94 2.06-2.06.94z\"/><path d=\"M17.41 7.96l-1.37-1.37c-.4-.4-.92-.59-1.43-.59-.52 0-1.04.2-1.43.59L10.3 9.45l-7.72 7.72c-.78.78-.78 2.05 0 2.83L4 21.41c.39.39.9.59 1.41.59.51 0 1.02-.2 1.41-.59l7.78-7.78 2.81-2.81c.8-.78.8-2.07 0-2.86zM5.41 20L4 18.59l7.72-7.72 1.47 1.35L5.41 20z\"/>\n",
              "  </svg>\n",
              "      </button>\n",
              "      \n",
              "  <style>\n",
              "    .colab-df-container {\n",
              "      display:flex;\n",
              "      flex-wrap:wrap;\n",
              "      gap: 12px;\n",
              "    }\n",
              "\n",
              "    .colab-df-convert {\n",
              "      background-color: #E8F0FE;\n",
              "      border: none;\n",
              "      border-radius: 50%;\n",
              "      cursor: pointer;\n",
              "      display: none;\n",
              "      fill: #1967D2;\n",
              "      height: 32px;\n",
              "      padding: 0 0 0 0;\n",
              "      width: 32px;\n",
              "    }\n",
              "\n",
              "    .colab-df-convert:hover {\n",
              "      background-color: #E2EBFA;\n",
              "      box-shadow: 0px 1px 2px rgba(60, 64, 67, 0.3), 0px 1px 3px 1px rgba(60, 64, 67, 0.15);\n",
              "      fill: #174EA6;\n",
              "    }\n",
              "\n",
              "    [theme=dark] .colab-df-convert {\n",
              "      background-color: #3B4455;\n",
              "      fill: #D2E3FC;\n",
              "    }\n",
              "\n",
              "    [theme=dark] .colab-df-convert:hover {\n",
              "      background-color: #434B5C;\n",
              "      box-shadow: 0px 1px 3px 1px rgba(0, 0, 0, 0.15);\n",
              "      filter: drop-shadow(0px 1px 2px rgba(0, 0, 0, 0.3));\n",
              "      fill: #FFFFFF;\n",
              "    }\n",
              "  </style>\n",
              "\n",
              "      <script>\n",
              "        const buttonEl =\n",
              "          document.querySelector('#df-47355c25-e06f-403a-960d-6e7ffb3c3abf button.colab-df-convert');\n",
              "        buttonEl.style.display =\n",
              "          google.colab.kernel.accessAllowed ? 'block' : 'none';\n",
              "\n",
              "        async function convertToInteractive(key) {\n",
              "          const element = document.querySelector('#df-47355c25-e06f-403a-960d-6e7ffb3c3abf');\n",
              "          const dataTable =\n",
              "            await google.colab.kernel.invokeFunction('convertToInteractive',\n",
              "                                                     [key], {});\n",
              "          if (!dataTable) return;\n",
              "\n",
              "          const docLinkHtml = 'Like what you see? Visit the ' +\n",
              "            '<a target=\"_blank\" href=https://colab.research.google.com/notebooks/data_table.ipynb>data table notebook</a>'\n",
              "            + ' to learn more about interactive tables.';\n",
              "          element.innerHTML = '';\n",
              "          dataTable['output_type'] = 'display_data';\n",
              "          await google.colab.output.renderOutput(dataTable, element);\n",
              "          const docLink = document.createElement('div');\n",
              "          docLink.innerHTML = docLinkHtml;\n",
              "          element.appendChild(docLink);\n",
              "        }\n",
              "      </script>\n",
              "    </div>\n",
              "  </div>\n",
              "  "
            ],
            "text/plain": [
              "              price  minimum_nights  ...  availability_365  number_of_reviews_ltm\n",
              "count  48066.000000    48066.000000  ...      48066.000000           48066.000000\n",
              "mean     123.570903        3.140973  ...        251.685973               2.586506\n",
              "std      545.896977        8.708326  ...        125.780672               5.728379\n",
              "min        0.000000        1.000000  ...          0.000000               0.000000\n",
              "25%       50.000000        1.000000  ...        177.000000               0.000000\n",
              "50%       70.000000        2.000000  ...        303.000000               0.000000\n",
              "75%      100.000000        3.000000  ...        363.000000               3.000000\n",
              "max    21633.000000      999.000000  ...        365.000000             119.000000\n",
              "\n",
              "[8 rows x 7 columns]"
            ]
          },
          "metadata": {},
          "execution_count": 6
        }
      ]
    },
    {
      "cell_type": "markdown",
      "source": [
        "Já há uma pista de outliers ao olharmos para os valores máximos das variáveis, que está muito acima das médias e medianas. A exceção parece ser a variável `availability_365`.\n",
        "\n",
        "Vamos analisar agora visualmente:"
      ],
      "metadata": {
        "id": "5AgLjO6hPjqB"
      }
    },
    {
      "cell_type": "code",
      "metadata": {
        "id": "q2wWSfeRbmBo",
        "outputId": "176595f6-1a7a-4ba8-8cd2-bf9387cb4f79",
        "colab": {
          "base_uri": "https://localhost:8080/",
          "height": 607
        }
      },
      "source": [
        "df[['price', 'minimum_nights', 'number_of_reviews', 'reviews_per_month', 'calculated_host_listings_count', 'availability_365', 'number_of_reviews_ltm']].hist(bins = 15, figsize =(15, 10), color='green');"
      ],
      "execution_count": null,
      "outputs": [
        {
          "output_type": "display_data",
          "data": {
            "image/png": "[encoded data removed]",
            "text/plain": [
              "<Figure size 1080x720 with 9 Axes>"
            ]
          },
          "metadata": {
            "needs_background": "light"
          }
        }
      ]
    },
    {
      "cell_type": "markdown",
      "source": [
        "Fica evidente a presença de outliers no dataset e precisaremos tratá-lo.\n",
        "\n",
        "Por exemplo, na variável `price`, podemos estimar pelo gráfico acima que o preço fica abaixo dos 1000 euros. Mas, por se tratar de preço de uma diária,ainda é muito impreciso e não nos dá muitos insghts.\n",
        "\n",
        "Também vale ressaltar, ainda para a variável `price`, que o valor máximo do dataset é de 21.633 euros, o que é muito improvável. Para conhecermos melhor o perfil de preços da Sicília, teremos que descartar esse tipo de valor discrepante."
      ],
      "metadata": {
        "id": "hx1X43YIWhNu"
      }
    },
    {
      "cell_type": "markdown",
      "source": [
        "## Identificando os outliers nas variáveis"
      ],
      "metadata": {
        "id": "lMHzS-mORwgs"
      }
    },
    {
      "cell_type": "markdown",
      "source": [
        "A seguir, foi desenvolvida uma função para identificar a presença de outliers nas colunas numéricas do nosso dataframe. Segue a fórmula:\n",
        "\n",
        "IQR = Q3 - Q1\n",
        "\n",
        "Limite inferior = média - IQR * 1,5\n",
        "\n",
        "Limite superior = média + IQR * 1,5\n",
        "\n",
        "\n",
        "Onde:\n",
        "\n",
        "IQR: Amplitude interquartil\n",
        "\n",
        "Q1: Primeiro Quartil\n",
        "\n",
        "Q3: Terceiro Quartil\n",
        "\n",
        "Para auxiliar na visulização, há um gráfico para cada variável que mostra a localização dos outliers\n",
        "\n",
        "Fonte:\n",
        "\n",
        "https://aprendendogestao.com.br/2016/08/26/identificacao-de-outliers/\n"
      ],
      "metadata": {
        "id": "6sg1fPI8EE2A"
      }
    },
    {
      "cell_type": "code",
      "source": [
        "# função para determinar a presença de outliers no dataframe\n",
        "\n",
        "def calc_outlier(q3, q1, media, max, min):\n",
        "  iqr = q3 - q1\n",
        "  lsup = media + iqr*1.5\n",
        "  linf = media - iqr*1.5\n",
        "  if max > lsup and min < linf:\n",
        "    return 'Outlier máx e mín'\n",
        "  elif  max > lsup and min > linf:\n",
        "    return 'Outlier máx'\n",
        "  elif max < lsup and min < linf:\n",
        "    return 'Outlier mín'\n",
        "  else:\n",
        "    return 'Sem outlier'\n",
        "\n",
        "# funções para determinar limites sup e inf para limpeza de outliers no dataset\n",
        "\n",
        "def calc_lim_sup(q3, q1, media):\n",
        "  iqr = q3 - q1\n",
        "  lsup = media + iqr*1.5\n",
        "  return lsup\n",
        "\n",
        "def calc_lim_inf(q3, q1, media):\n",
        "  iqr = q3 - q1\n",
        "  linf = media - iqr*1.5\n",
        "  return linf"
      ],
      "metadata": {
        "id": "MxlPKL8obKR0"
      },
      "execution_count": null,
      "outputs": []
    },
    {
      "cell_type": "markdown",
      "source": [
        "#### Price"
      ],
      "metadata": {
        "id": "UO1JKKlf390I"
      }
    },
    {
      "cell_type": "code",
      "source": [
        "df.price.plot(kind='box', vert=False, figsize=(15, 3))\n",
        "\n",
        "print('O valor mínimo de price é %s. É muito improvável que haja uma alocação gratuita.' % min(df.price))\n",
        "print('O valor máximo de price é %s. Isso chama a atenção, pois é muito maior que Q3, que é 100.00' % max(df.price))\n",
        "print('\\n')\n",
        "print('Cálculo para achar outlier:')\n",
        "print(calc_outlier(df.price.quantile(0.75), df.price.quantile(0.25), df.price.mean(), df.price.max(), df.price.min()))\n",
        "print('\\n')"
      ],
      "metadata": {
        "id": "qDG4tz8SWvHw",
        "outputId": "3b8e1b51-36ab-4d8d-c02f-a749935a8079",
        "colab": {
          "base_uri": "https://localhost:8080/",
          "height": 350
        }
      },
      "execution_count": null,
      "outputs": [
        {
          "output_type": "stream",
          "name": "stdout",
          "text": [
            "O valor mínimo de price é 0. É muito improvável que haja uma alocação gratuita.\n",
            "O valor máximo de price é 21633. Isso chama a atenção, pois é muito maior que Q3, que é 100.00\n",
            "\n",
            "\n",
            "Cálculo para achar outlier:\n",
            "Outlier máx e mín\n",
            "\n",
            "\n"
          ]
        },
        {
          "output_type": "display_data",
          "data": {
            "image/png": "[encoded data removed]",
            "text/plain": [
              "<Figure size 1080x216 with 1 Axes>"
            ]
          },
          "metadata": {
            "needs_background": "light"
          }
        }
      ]
    },
    {
      "cell_type": "markdown",
      "source": [
        "#### Minimum_nights"
      ],
      "metadata": {
        "id": "uu6Fn2Ra5gli"
      }
    },
    {
      "cell_type": "code",
      "source": [
        "df.minimum_nights.plot(kind='box', vert=False, figsize=(15, 3))\n",
        "\n",
        "print('O valor mínimo de noites é %s. Parece razoável alugar um airbnb por apenas uma noite.' % min(df.minimum_nights))\n",
        "print('O valor máximo de noites é %s. Está estranho, pois seriam quase 3 anos de estadia' % max(df.minimum_nights))\n",
        "print('\\n')\n",
        "print('Cálculo para achar outlier:')\n",
        "print(calc_outlier(df.minimum_nights.quantile(0.75), df.minimum_nights.quantile(0.25), df.minimum_nights.mean(), df.minimum_nights.max(), df.minimum_nights.min()))\n",
        "print('\\n')"
      ],
      "metadata": {
        "id": "eBs2X35L5l0O",
        "colab": {
          "base_uri": "https://localhost:8080/",
          "height": 350
        },
        "outputId": "ab0a811d-499d-448f-e30b-c0ec10494261"
      },
      "execution_count": null,
      "outputs": [
        {
          "output_type": "stream",
          "name": "stdout",
          "text": [
            "O valor mínimo de noites é 1. Parece razoável alugar um airbnb por apenas uma noite.\n",
            "O valor máximo de noites é 999. Está estranho, pois seriam quase 3 anos de estadia\n",
            "\n",
            "\n",
            "Cálculo para achar outlier:\n",
            "Outlier máx\n",
            "\n",
            "\n"
          ]
        },
        {
          "output_type": "display_data",
          "data": {
            "image/png": "[encoded data removed]",
            "text/plain": [
              "<Figure size 1080x216 with 1 Axes>"
            ]
          },
          "metadata": {
            "needs_background": "light"
          }
        }
      ]
    },
    {
      "cell_type": "markdown",
      "source": [
        "#### Number_of_reviews"
      ],
      "metadata": {
        "id": "3tkfHuf3BT_n"
      }
    },
    {
      "cell_type": "code",
      "source": [
        "df.number_of_reviews.plot(kind='box', vert=False, figsize=(15, 3))\n",
        "\n",
        "print('ATENÇÃO: Para o número de reviews, seria interessante que o dataset tivesse a informação da data de início de alocações no airbnb.\\n')\n",
        "print('O número mínimo de reviews é %s.' % min(df.number_of_reviews))\n",
        "print('O número máximo de reviews é %s. Está estranho, pois seriam quase 3 anos de estadia' % max(df.number_of_reviews))\n",
        "print('\\n')\n",
        "print('Cálculo para achar outlier:')\n",
        "print(calc_outlier(df.number_of_reviews.quantile(0.75), df.number_of_reviews.quantile(0.25), df.number_of_reviews.mean(), df.number_of_reviews.max(), df.number_of_reviews.min()))\n",
        "print('\\nComo 0 não foi considerado um outlier no limite inferior, acreditamos que no dataset constem muitas alocações novas na plataforma do airbnb. Logo, ainda não foi possível o acúmulo de reviews, mas é apenas uma hipótese.')\n",
        "print('\\n')"
      ],
      "metadata": {
        "id": "eLXAk-o9BUGd",
        "outputId": "4413fd25-5705-490d-c853-dba7004421d6",
        "colab": {
          "base_uri": "https://localhost:8080/",
          "height": 439
        }
      },
      "execution_count": null,
      "outputs": [
        {
          "output_type": "stream",
          "name": "stdout",
          "text": [
            "ATENÇÃO: Para o número de reviews, seria interessante que o dataset tivesse a informação da data de início de alocações no airbnb.\n",
            "\n",
            "O número mínimo de reviews é 0.\n",
            "O número máximo de reviews é 631. Está estranho, pois seriam quase 3 anos de estadia\n",
            "\n",
            "\n",
            "Cálculo para achar outlier:\n",
            "Outlier máx\n",
            "\n",
            "Como 0 não foi considerado um outlier no limite inferior, acreditamos que no dataset constem muitas alocações novas na plataforma do airbnb. Logo, ainda não foi possível o acúmulo de reviews, mas é apenas uma hipótese.\n",
            "\n",
            "\n"
          ]
        },
        {
          "output_type": "display_data",
          "data": {
            "image/png": "[encoded data removed]",
            "text/plain": [
              "<Figure size 1080x216 with 1 Axes>"
            ]
          },
          "metadata": {
            "needs_background": "light"
          }
        }
      ]
    },
    {
      "cell_type": "markdown",
      "source": [
        "#### Reviews_per_month"
      ],
      "metadata": {
        "id": "9IvtQqKrHgW9"
      }
    },
    {
      "cell_type": "code",
      "source": [
        "df.reviews_per_month.plot(kind='box', vert=False, figsize=(15, 3))\n",
        "\n",
        "print('O número mínimo de reviews por mês é %s.' % min(df.reviews_per_month))\n",
        "print('O número máximo de reviews por mês é %s.' % max(df.reviews_per_month))\n",
        "print('\\n')\n",
        "print('Cálculo para achar outlier:')\n",
        "print(calc_outlier(df.reviews_per_month.quantile(0.75), df.reviews_per_month.quantile(0.25), df.reviews_per_month.mean(), df.reviews_per_month.max(), df.reviews_per_month.min()))\n",
        "print('\\n')"
      ],
      "metadata": {
        "id": "QubO1EsqHgdx",
        "outputId": "1ceca95e-a5f7-4f24-a76d-342d19de37d2",
        "colab": {
          "base_uri": "https://localhost:8080/",
          "height": 350
        }
      },
      "execution_count": null,
      "outputs": [
        {
          "output_type": "stream",
          "name": "stdout",
          "text": [
            "O número mínimo de reviews por mês é 0.01.\n",
            "O número máximo de reviews por mês é 11.13.\n",
            "\n",
            "\n",
            "Cálculo para achar outlier:\n",
            "Outlier máx\n",
            "\n",
            "\n"
          ]
        },
        {
          "output_type": "display_data",
          "data": {
            "image/png": "[encoded data removed]",
            "text/plain": [
              "<Figure size 1080x216 with 1 Axes>"
            ]
          },
          "metadata": {
            "needs_background": "light"
          }
        }
      ]
    },
    {
      "cell_type": "markdown",
      "source": [
        "#### Calculated_host_listings_count"
      ],
      "metadata": {
        "id": "uZJfmM_sIeyZ"
      }
    },
    {
      "cell_type": "code",
      "source": [
        "df.calculated_host_listings_count.plot(kind='box', vert=False, figsize=(15, 3))\n",
        "\n",
        "print('O número mínimo de alocações do host é %s.' % min(df.calculated_host_listings_count))\n",
        "print('O número máximo de alocações do host é %s. É bem improvável que um mês host tenha tantas alocações assim no airbnb' % max(df.calculated_host_listings_count))\n",
        "print('\\n')\n",
        "print('Cálculo para achar outlier:')\n",
        "print(calc_outlier(df.calculated_host_listings_count.quantile(0.75), df.calculated_host_listings_count.quantile(0.25), df.calculated_host_listings_count.mean(), df.calculated_host_listings_count.max(), df.calculated_host_listings_count.min()))\n",
        "print('\\nChama atenção o 1 ter ficado como outlier. A média de alocações por host é de %s' % round(df.calculated_host_listings_count.mean(), 2))\n",
        "print('\\n')"
      ],
      "metadata": {
        "id": "5UuAvCKQIe5S",
        "outputId": "dd590924-e345-41f3-e25c-33ab6dde0047",
        "colab": {
          "base_uri": "https://localhost:8080/",
          "height": 385
        }
      },
      "execution_count": null,
      "outputs": [
        {
          "output_type": "stream",
          "name": "stdout",
          "text": [
            "O número mínimo de alocações do host é 1.\n",
            "O número máximo de alocações do host é 235. É bem improvável que um mês host tenha tantas alocações assim no airbnb\n",
            "\n",
            "\n",
            "Cálculo para achar outlier:\n",
            "Outlier máx e mín\n",
            "\n",
            "Chama atenção o 1 ter ficado como outlier. A média de alocações por host é de 9.3\n",
            "\n",
            "\n"
          ]
        },
        {
          "output_type": "display_data",
          "data": {
            "image/png": "[encoded data removed]",
            "text/plain": [
              "<Figure size 1080x216 with 1 Axes>"
            ]
          },
          "metadata": {
            "needs_background": "light"
          }
        }
      ]
    },
    {
      "cell_type": "markdown",
      "source": [
        "#### Availability_365"
      ],
      "metadata": {
        "id": "QywTbjBSJ6cc"
      }
    },
    {
      "cell_type": "code",
      "source": [
        "df.availability_365.plot(kind='box', vert=False, figsize=(15, 3))\n",
        "\n",
        "print('O número mínimo de dias disponíveis da alocação é %s.' % min(df.availability_365))\n",
        "print('O número máximo de dias disponíveis da alocação é %s.' % max(df.availability_365))\n",
        "print('\\n')\n",
        "print('Cálculo para achar outlier:')\n",
        "print(calc_outlier(df.availability_365.quantile(0.75), df.availability_365.quantile(0.25), df.availability_365.mean(), df.availability_365.max(), df.availability_365.min()))\n",
        "print('Não há outlier para dias disponíveis da alocação no ano')\n",
        "print('\\n')"
      ],
      "metadata": {
        "id": "827qc4_zJ6jJ",
        "outputId": "0b7d044a-f87c-4bb5-ced9-2636ab13f906",
        "colab": {
          "base_uri": "https://localhost:8080/",
          "height": 367
        }
      },
      "execution_count": null,
      "outputs": [
        {
          "output_type": "stream",
          "name": "stdout",
          "text": [
            "O número mínimo de dias disponíveis da alocação é 0.\n",
            "O número máximo de dias disponíveis da alocação é 365.\n",
            "\n",
            "\n",
            "Cálculo para achar outlier:\n",
            "Sem outlier\n",
            "Não há outlier para dias disponíveis da alocação no ano\n",
            "\n",
            "\n"
          ]
        },
        {
          "output_type": "display_data",
          "data": {
            "image/png": "[encoded data removed]",
            "text/plain": [
              "<Figure size 1080x216 with 1 Axes>"
            ]
          },
          "metadata": {
            "needs_background": "light"
          }
        }
      ]
    },
    {
      "cell_type": "markdown",
      "source": [
        "#### Number_of_reviews_ltm"
      ],
      "metadata": {
        "id": "ncvUt63CKyxZ"
      }
    },
    {
      "cell_type": "code",
      "source": [
        "df.number_of_reviews_ltm.plot(kind='box', vert=False, figsize=(15, 3))\n",
        "\n",
        "print('O número mínimo de reviews nos últimos 12 meses é %s.' % min(df.number_of_reviews_ltm))\n",
        "print('O número máximo de reviews nos últimos 12 meses é %s.' % max(df.number_of_reviews_ltm))\n",
        "print('\\n')\n",
        "print('Cálculo para achar outlier:')\n",
        "print(calc_outlier(df.number_of_reviews_ltm.quantile(0.75), df.number_of_reviews_ltm.quantile(0.25), df.number_of_reviews_ltm.mean(), df.number_of_reviews_ltm.max(), df.number_of_reviews_ltm.min()))\n",
        "print('O outlier cai de 631 durante todo o tempo de atividade das alocações para 119 se considerarmos os últimos 12 meses.')\n",
        "print('\\n')"
      ],
      "metadata": {
        "id": "HG09n-udKy7J",
        "outputId": "cb5907ae-2787-4408-b764-9377adc18809",
        "colab": {
          "base_uri": "https://localhost:8080/",
          "height": 367
        }
      },
      "execution_count": null,
      "outputs": [
        {
          "output_type": "stream",
          "name": "stdout",
          "text": [
            "O número mínimo de reviews nos últimos 12 meses é 0.\n",
            "O número máximo de reviews nos últimos 12 meses é 119.\n",
            "\n",
            "\n",
            "Cálculo para achar outlier:\n",
            "Outlier máx\n",
            "O outlier cai de 631 durante todo o tempo de atividade das alocações para 119 se considerarmos os últimos 12 meses.\n",
            "\n",
            "\n"
          ]
        },
        {
          "output_type": "display_data",
          "data": {
            "image/png": "[encoded data removed]",
            "text/plain": [
              "<Figure size 1080x216 with 1 Axes>"
            ]
          },
          "metadata": {
            "needs_background": "light"
          }
        }
      ]
    },
    {
      "cell_type": "markdown",
      "source": [
        "## Resultado do tratamento"
      ],
      "metadata": {
        "id": "RlfVgz57pN-u"
      }
    },
    {
      "cell_type": "markdown",
      "source": [
        "Agora que identificamos os outliers, vamos removê-los do dataset...\n",
        "\n"
      ],
      "metadata": {
        "id": "F7cPiLvupUsu"
      }
    },
    {
      "cell_type": "code",
      "source": [
        "df_clean = df.copy()\n",
        "# removendo outliers superiores\n",
        "df_clean.drop(df_clean[df_clean.price > calc_lim_sup(df.price.quantile(0.75), df.price.quantile(0.25), df.price.mean())].index, axis=0, inplace=True)\n",
        "df_clean.drop(df_clean[df_clean.minimum_nights > calc_lim_sup(df.minimum_nights.quantile(0.75), df.minimum_nights.quantile(0.25), df.minimum_nights.mean())].index, axis=0, inplace=True)\n",
        "df_clean.drop(df_clean[df_clean.number_of_reviews > calc_lim_sup(df.number_of_reviews.quantile(0.75), df.number_of_reviews.quantile(0.25), df.number_of_reviews.mean())].index, axis=0, inplace=True)\n",
        "df_clean.drop(df_clean[df_clean.reviews_per_month > calc_lim_sup(df.reviews_per_month.quantile(0.75), df.reviews_per_month.quantile(0.25), df.reviews_per_month.mean())].index, axis=0, inplace=True)\n",
        "df_clean.drop(df_clean[df_clean.calculated_host_listings_count > calc_lim_sup(df.calculated_host_listings_count.quantile(0.75), df.calculated_host_listings_count.quantile(0.25), df.calculated_host_listings_count.mean())].index, axis=0, inplace=True)\n",
        "df_clean.drop(df_clean[df_clean.number_of_reviews_ltm > calc_lim_sup(df.number_of_reviews_ltm.quantile(0.75), df.number_of_reviews_ltm.quantile(0.25), df.number_of_reviews_ltm.mean())].index, axis=0, inplace=True)\n",
        "\n",
        "# removendo outliers inferiores\n",
        "df_clean.drop(df_clean[df_clean.price < calc_lim_inf(df.price.quantile(0.75), df.price.quantile(0.25), df.price.mean())].index, axis=0, inplace=True)\n",
        "df_clean.drop(df_clean[df_clean.minimum_nights < calc_lim_inf(df.minimum_nights.quantile(0.75), df.minimum_nights.quantile(0.25), df.minimum_nights.mean())].index, axis=0, inplace=True)\n",
        "df_clean.drop(df_clean[df_clean.number_of_reviews < calc_lim_inf(df.number_of_reviews.quantile(0.75), df.number_of_reviews.quantile(0.25), df.number_of_reviews.mean())].index, axis=0, inplace=True)\n",
        "df_clean.drop(df_clean[df_clean.reviews_per_month < calc_lim_inf(df.reviews_per_month.quantile(0.75), df.reviews_per_month.quantile(0.25), df.reviews_per_month.mean())].index, axis=0, inplace=True)\n",
        "df_clean.drop(df_clean[df_clean.calculated_host_listings_count < calc_lim_inf(df.calculated_host_listings_count.quantile(0.75), df.calculated_host_listings_count.quantile(0.25), df.calculated_host_listings_count.mean())].index, axis=0, inplace=True)\n",
        "df_clean.drop(df_clean[df_clean.number_of_reviews_ltm < calc_lim_inf(df.number_of_reviews_ltm.quantile(0.75), df.number_of_reviews_ltm.quantile(0.25), df.number_of_reviews_ltm.mean())].index, axis=0, inplace=True)"
      ],
      "metadata": {
        "id": "zisbeY3KpcJz"
      },
      "execution_count": null,
      "outputs": []
    },
    {
      "cell_type": "markdown",
      "source": [
        "Vamos montar a tabela consolidada do início da sessão novamente"
      ],
      "metadata": {
        "id": "6ypblVCxdjX7"
      }
    },
    {
      "cell_type": "code",
      "source": [
        "df_clean[['price', 'minimum_nights', 'number_of_reviews', 'reviews_per_month', 'calculated_host_listings_count', 'availability_365', 'number_of_reviews_ltm']].describe()"
      ],
      "metadata": {
        "id": "viU_45Bydj-V",
        "outputId": "e5de2953-ddc0-4705-b694-06cfee56d0f8",
        "colab": {
          "base_uri": "https://localhost:8080/",
          "height": 300
        }
      },
      "execution_count": null,
      "outputs": [
        {
          "output_type": "execute_result",
          "data": {
            "text/html": [
              "\n",
              "  <div id=\"df-9d6a1ce5-8e98-4e2a-8912-0cbda76f0b8f\">\n",
              "    <div class=\"colab-df-container\">\n",
              "      <div>\n",
              "<style scoped>\n",
              "    .dataframe tbody tr th:only-of-type {\n",
              "        vertical-align: middle;\n",
              "    }\n",
              "\n",
              "    .dataframe tbody tr th {\n",
              "        vertical-align: top;\n",
              "    }\n",
              "\n",
              "    .dataframe thead th {\n",
              "        text-align: right;\n",
              "    }\n",
              "</style>\n",
              "<table border=\"1\" class=\"dataframe\">\n",
              "  <thead>\n",
              "    <tr style=\"text-align: right;\">\n",
              "      <th></th>\n",
              "      <th>price</th>\n",
              "      <th>minimum_nights</th>\n",
              "      <th>number_of_reviews</th>\n",
              "      <th>reviews_per_month</th>\n",
              "      <th>calculated_host_listings_count</th>\n",
              "      <th>availability_365</th>\n",
              "      <th>number_of_reviews_ltm</th>\n",
              "    </tr>\n",
              "  </thead>\n",
              "  <tbody>\n",
              "    <tr>\n",
              "      <th>count</th>\n",
              "      <td>6629.000000</td>\n",
              "      <td>6629.000000</td>\n",
              "      <td>6629.000000</td>\n",
              "      <td>4030.000000</td>\n",
              "      <td>6629.000000</td>\n",
              "      <td>6629.000000</td>\n",
              "      <td>6629.000000</td>\n",
              "    </tr>\n",
              "    <tr>\n",
              "      <th>mean</th>\n",
              "      <td>89.526324</td>\n",
              "      <td>2.084025</td>\n",
              "      <td>3.731785</td>\n",
              "      <td>0.211548</td>\n",
              "      <td>6.217831</td>\n",
              "      <td>257.407905</td>\n",
              "      <td>0.812038</td>\n",
              "    </tr>\n",
              "    <tr>\n",
              "      <th>std</th>\n",
              "      <td>33.897193</td>\n",
              "      <td>1.270350</td>\n",
              "      <td>5.995033</td>\n",
              "      <td>0.203853</td>\n",
              "      <td>2.659330</td>\n",
              "      <td>126.807251</td>\n",
              "      <td>1.461526</td>\n",
              "    </tr>\n",
              "    <tr>\n",
              "      <th>min</th>\n",
              "      <td>49.000000</td>\n",
              "      <td>1.000000</td>\n",
              "      <td>0.000000</td>\n",
              "      <td>0.010000</td>\n",
              "      <td>4.000000</td>\n",
              "      <td>0.000000</td>\n",
              "      <td>0.000000</td>\n",
              "    </tr>\n",
              "    <tr>\n",
              "      <th>25%</th>\n",
              "      <td>62.000000</td>\n",
              "      <td>1.000000</td>\n",
              "      <td>0.000000</td>\n",
              "      <td>0.060000</td>\n",
              "      <td>4.000000</td>\n",
              "      <td>179.000000</td>\n",
              "      <td>0.000000</td>\n",
              "    </tr>\n",
              "    <tr>\n",
              "      <th>50%</th>\n",
              "      <td>80.000000</td>\n",
              "      <td>2.000000</td>\n",
              "      <td>1.000000</td>\n",
              "      <td>0.150000</td>\n",
              "      <td>5.000000</td>\n",
              "      <td>322.000000</td>\n",
              "      <td>0.000000</td>\n",
              "    </tr>\n",
              "    <tr>\n",
              "      <th>75%</th>\n",
              "      <td>106.000000</td>\n",
              "      <td>3.000000</td>\n",
              "      <td>5.000000</td>\n",
              "      <td>0.280000</td>\n",
              "      <td>7.000000</td>\n",
              "      <td>363.000000</td>\n",
              "      <td>1.000000</td>\n",
              "    </tr>\n",
              "    <tr>\n",
              "      <th>max</th>\n",
              "      <td>198.000000</td>\n",
              "      <td>6.000000</td>\n",
              "      <td>30.000000</td>\n",
              "      <td>1.240000</td>\n",
              "      <td>15.000000</td>\n",
              "      <td>365.000000</td>\n",
              "      <td>7.000000</td>\n",
              "    </tr>\n",
              "  </tbody>\n",
              "</table>\n",
              "</div>\n",
              "      <button class=\"colab-df-convert\" onclick=\"convertToInteractive('df-9d6a1ce5-8e98-4e2a-8912-0cbda76f0b8f')\"\n",
              "              title=\"Convert this dataframe to an interactive table.\"\n",
              "              style=\"display:none;\">\n",
              "        \n",
              "  <svg xmlns=\"http://www.w3.org/2000/svg\" height=\"24px\"viewBox=\"0 0 24 24\"\n",
              "       width=\"24px\">\n",
              "    <path d=\"M0 0h24v24H0V0z\" fill=\"none\"/>\n",
              "    <path d=\"M18.56 5.44l.94 2.06.94-2.06 2.06-.94-2.06-.94-.94-2.06-.94 2.06-2.06.94zm-11 1L8.5 8.5l.94-2.06 2.06-.94-2.06-.94L8.5 2.5l-.94 2.06-2.06.94zm10 10l.94 2.06.94-2.06 2.06-.94-2.06-.94-.94-2.06-.94 2.06-2.06.94z\"/><path d=\"M17.41 7.96l-1.37-1.37c-.4-.4-.92-.59-1.43-.59-.52 0-1.04.2-1.43.59L10.3 9.45l-7.72 7.72c-.78.78-.78 2.05 0 2.83L4 21.41c.39.39.9.59 1.41.59.51 0 1.02-.2 1.41-.59l7.78-7.78 2.81-2.81c.8-.78.8-2.07 0-2.86zM5.41 20L4 18.59l7.72-7.72 1.47 1.35L5.41 20z\"/>\n",
              "  </svg>\n",
              "      </button>\n",
              "      \n",
              "  <style>\n",
              "    .colab-df-container {\n",
              "      display:flex;\n",
              "      flex-wrap:wrap;\n",
              "      gap: 12px;\n",
              "    }\n",
              "\n",
              "    .colab-df-convert {\n",
              "      background-color: #E8F0FE;\n",
              "      border: none;\n",
              "      border-radius: 50%;\n",
              "      cursor: pointer;\n",
              "      display: none;\n",
              "      fill: #1967D2;\n",
              "      height: 32px;\n",
              "      padding: 0 0 0 0;\n",
              "      width: 32px;\n",
              "    }\n",
              "\n",
              "    .colab-df-convert:hover {\n",
              "      background-color: #E2EBFA;\n",
              "      box-shadow: 0px 1px 2px rgba(60, 64, 67, 0.3), 0px 1px 3px 1px rgba(60, 64, 67, 0.15);\n",
              "      fill: #174EA6;\n",
              "    }\n",
              "\n",
              "    [theme=dark] .colab-df-convert {\n",
              "      background-color: #3B4455;\n",
              "      fill: #D2E3FC;\n",
              "    }\n",
              "\n",
              "    [theme=dark] .colab-df-convert:hover {\n",
              "      background-color: #434B5C;\n",
              "      box-shadow: 0px 1px 3px 1px rgba(0, 0, 0, 0.15);\n",
              "      filter: drop-shadow(0px 1px 2px rgba(0, 0, 0, 0.3));\n",
              "      fill: #FFFFFF;\n",
              "    }\n",
              "  </style>\n",
              "\n",
              "      <script>\n",
              "        const buttonEl =\n",
              "          document.querySelector('#df-9d6a1ce5-8e98-4e2a-8912-0cbda76f0b8f button.colab-df-convert');\n",
              "        buttonEl.style.display =\n",
              "          google.colab.kernel.accessAllowed ? 'block' : 'none';\n",
              "\n",
              "        async function convertToInteractive(key) {\n",
              "          const element = document.querySelector('#df-9d6a1ce5-8e98-4e2a-8912-0cbda76f0b8f');\n",
              "          const dataTable =\n",
              "            await google.colab.kernel.invokeFunction('convertToInteractive',\n",
              "                                                     [key], {});\n",
              "          if (!dataTable) return;\n",
              "\n",
              "          const docLinkHtml = 'Like what you see? Visit the ' +\n",
              "            '<a target=\"_blank\" href=https://colab.research.google.com/notebooks/data_table.ipynb>data table notebook</a>'\n",
              "            + ' to learn more about interactive tables.';\n",
              "          element.innerHTML = '';\n",
              "          dataTable['output_type'] = 'display_data';\n",
              "          await google.colab.output.renderOutput(dataTable, element);\n",
              "          const docLink = document.createElement('div');\n",
              "          docLink.innerHTML = docLinkHtml;\n",
              "          element.appendChild(docLink);\n",
              "        }\n",
              "      </script>\n",
              "    </div>\n",
              "  </div>\n",
              "  "
            ],
            "text/plain": [
              "             price  minimum_nights  ...  availability_365  number_of_reviews_ltm\n",
              "count  6629.000000     6629.000000  ...       6629.000000            6629.000000\n",
              "mean     89.526324        2.084025  ...        257.407905               0.812038\n",
              "std      33.897193        1.270350  ...        126.807251               1.461526\n",
              "min      49.000000        1.000000  ...          0.000000               0.000000\n",
              "25%      62.000000        1.000000  ...        179.000000               0.000000\n",
              "50%      80.000000        2.000000  ...        322.000000               0.000000\n",
              "75%     106.000000        3.000000  ...        363.000000               1.000000\n",
              "max     198.000000        6.000000  ...        365.000000               7.000000\n",
              "\n",
              "[8 rows x 7 columns]"
            ]
          },
          "metadata": {},
          "execution_count": 29
        }
      ]
    },
    {
      "cell_type": "markdown",
      "source": [
        "E finalmente vammos plotar os histogramas da base limpa:"
      ],
      "metadata": {
        "id": "sOVVXHgNSzO0"
      }
    },
    {
      "cell_type": "code",
      "source": [
        "# plotando a base limpa\n",
        "df_clean[['price', 'minimum_nights', 'number_of_reviews', 'reviews_per_month', 'calculated_host_listings_count', 'availability_365', 'number_of_reviews_ltm']].hist(bins = 15, figsize =(15, 10), color='blue');"
      ],
      "metadata": {
        "id": "2EmLTiRqS5hZ",
        "outputId": "cfd71c3e-be73-44bf-b762-d49daf63a67d",
        "colab": {
          "base_uri": "https://localhost:8080/",
          "height": 607
        }
      },
      "execution_count": null,
      "outputs": [
        {
          "output_type": "display_data",
          "data": {
            "image/png": "[encoded data removed]",
            "text/plain": [
              "<Figure size 1080x720 with 9 Axes>"
            ]
          },
          "metadata": {
            "needs_background": "light"
          }
        }
      ]
    },
    {
      "cell_type": "markdown",
      "source": [
        "Vamos tomar novamente a variável `price` como exemplo. No histograma da variável com a base bruta, só pudemos concluir que a enorme maioria dos preços das diárias estava abaixo dos 1000 euros, conforme o gráfico abaixo:"
      ],
      "metadata": {
        "id": "3c64i7gNTJFL"
      }
    },
    {
      "cell_type": "code",
      "source": [
        "df[['price']].hist(bins = 15, figsize =(3, 3), color='green');"
      ],
      "metadata": {
        "id": "dQk9Nd7JURz7",
        "outputId": "5cef1ef8-f6a5-4f5f-ee3e-7aaf069b3d30",
        "colab": {
          "base_uri": "https://localhost:8080/",
          "height": 227
        }
      },
      "execution_count": null,
      "outputs": [
        {
          "output_type": "display_data",
          "data": {
            "image/png": "[encoded data removed]",
            "text/plain": [
              "<Figure size 216x216 with 1 Axes>"
            ]
          },
          "metadata": {
            "needs_background": "light"
          }
        }
      ]
    },
    {
      "cell_type": "markdown",
      "source": [
        "Agora, na base limpa, visualizamos com mais clareza que a maioria das alocações possui uma diária abaixo dos 100 euros, enquanto as mais caras custam aproximadamente 200 euros."
      ],
      "metadata": {
        "id": "yA3-ZYY3UnKj"
      }
    },
    {
      "cell_type": "code",
      "source": [
        "df_clean[['price']].hist(bins = 15, figsize =(3, 3), color='blue');"
      ],
      "metadata": {
        "id": "NUqzFsbvU_pQ",
        "outputId": "dcdac468-7d9b-4253-f222-1795ae43ca31",
        "colab": {
          "base_uri": "https://localhost:8080/",
          "height": 227
        }
      },
      "execution_count": null,
      "outputs": [
        {
          "output_type": "display_data",
          "data": {
            "image/png": "[encoded data removed]",
            "text/plain": [
              "<Figure size 216x216 with 1 Axes>"
            ]
          },
          "metadata": {
            "needs_background": "light"
          }
        }
      ]
    },
    {
      "cell_type": "markdown",
      "source": [
        "# 4) Correlação"
      ],
      "metadata": {
        "id": "OyUDOmvZVSzx"
      }
    },
    {
      "cell_type": "markdown",
      "source": [
        "Para esse passo, criaremos uma matriz de correlação, que nos mostra se existe uma correlação entre as variáveis e, em caso positivo, qual é a sua magnitude. É um indicador que varia de -1 (muito forte negativamente) a 1 (muito forte positivamente), sendo 0 uma correlação inexistente."
      ],
      "metadata": {
        "id": "8D55zzVfpEsX"
      }
    },
    {
      "cell_type": "code",
      "metadata": {
        "id": "x2ayzBajqxyd",
        "outputId": "fe8b9139-14b3-4075-bfe1-02ea3c7068f9",
        "colab": {
          "base_uri": "https://localhost:8080/",
          "height": 238
        }
      },
      "source": [
        "matrix = df_clean[['price', 'minimum_nights', 'number_of_reviews', 'reviews_per_month', 'calculated_host_listings_count', 'number_of_reviews_ltm']].corr()\n",
        "display(matrix)"
      ],
      "execution_count": null,
      "outputs": [
        {
          "output_type": "display_data",
          "data": {
            "text/html": [
              "\n",
              "  <div id=\"df-c5cee420-4203-4814-ae51-712193015e6e\">\n",
              "    <div class=\"colab-df-container\">\n",
              "      <div>\n",
              "<style scoped>\n",
              "    .dataframe tbody tr th:only-of-type {\n",
              "        vertical-align: middle;\n",
              "    }\n",
              "\n",
              "    .dataframe tbody tr th {\n",
              "        vertical-align: top;\n",
              "    }\n",
              "\n",
              "    .dataframe thead th {\n",
              "        text-align: right;\n",
              "    }\n",
              "</style>\n",
              "<table border=\"1\" class=\"dataframe\">\n",
              "  <thead>\n",
              "    <tr style=\"text-align: right;\">\n",
              "      <th></th>\n",
              "      <th>price</th>\n",
              "      <th>minimum_nights</th>\n",
              "      <th>number_of_reviews</th>\n",
              "      <th>reviews_per_month</th>\n",
              "      <th>calculated_host_listings_count</th>\n",
              "      <th>number_of_reviews_ltm</th>\n",
              "    </tr>\n",
              "  </thead>\n",
              "  <tbody>\n",
              "    <tr>\n",
              "      <th>price</th>\n",
              "      <td>1.000000</td>\n",
              "      <td>0.046045</td>\n",
              "      <td>-0.080620</td>\n",
              "      <td>-0.012470</td>\n",
              "      <td>0.102898</td>\n",
              "      <td>-0.059639</td>\n",
              "    </tr>\n",
              "    <tr>\n",
              "      <th>minimum_nights</th>\n",
              "      <td>0.046045</td>\n",
              "      <td>1.000000</td>\n",
              "      <td>0.048307</td>\n",
              "      <td>-0.057161</td>\n",
              "      <td>-0.010242</td>\n",
              "      <td>0.035162</td>\n",
              "    </tr>\n",
              "    <tr>\n",
              "      <th>number_of_reviews</th>\n",
              "      <td>-0.080620</td>\n",
              "      <td>0.048307</td>\n",
              "      <td>1.000000</td>\n",
              "      <td>0.350126</td>\n",
              "      <td>-0.027555</td>\n",
              "      <td>0.522710</td>\n",
              "    </tr>\n",
              "    <tr>\n",
              "      <th>reviews_per_month</th>\n",
              "      <td>-0.012470</td>\n",
              "      <td>-0.057161</td>\n",
              "      <td>0.350126</td>\n",
              "      <td>1.000000</td>\n",
              "      <td>0.034058</td>\n",
              "      <td>0.651516</td>\n",
              "    </tr>\n",
              "    <tr>\n",
              "      <th>calculated_host_listings_count</th>\n",
              "      <td>0.102898</td>\n",
              "      <td>-0.010242</td>\n",
              "      <td>-0.027555</td>\n",
              "      <td>0.034058</td>\n",
              "      <td>1.000000</td>\n",
              "      <td>0.009721</td>\n",
              "    </tr>\n",
              "    <tr>\n",
              "      <th>number_of_reviews_ltm</th>\n",
              "      <td>-0.059639</td>\n",
              "      <td>0.035162</td>\n",
              "      <td>0.522710</td>\n",
              "      <td>0.651516</td>\n",
              "      <td>0.009721</td>\n",
              "      <td>1.000000</td>\n",
              "    </tr>\n",
              "  </tbody>\n",
              "</table>\n",
              "</div>\n",
              "      <button class=\"colab-df-convert\" onclick=\"convertToInteractive('df-c5cee420-4203-4814-ae51-712193015e6e')\"\n",
              "              title=\"Convert this dataframe to an interactive table.\"\n",
              "              style=\"display:none;\">\n",
              "        \n",
              "  <svg xmlns=\"http://www.w3.org/2000/svg\" height=\"24px\"viewBox=\"0 0 24 24\"\n",
              "       width=\"24px\">\n",
              "    <path d=\"M0 0h24v24H0V0z\" fill=\"none\"/>\n",
              "    <path d=\"M18.56 5.44l.94 2.06.94-2.06 2.06-.94-2.06-.94-.94-2.06-.94 2.06-2.06.94zm-11 1L8.5 8.5l.94-2.06 2.06-.94-2.06-.94L8.5 2.5l-.94 2.06-2.06.94zm10 10l.94 2.06.94-2.06 2.06-.94-2.06-.94-.94-2.06-.94 2.06-2.06.94z\"/><path d=\"M17.41 7.96l-1.37-1.37c-.4-.4-.92-.59-1.43-.59-.52 0-1.04.2-1.43.59L10.3 9.45l-7.72 7.72c-.78.78-.78 2.05 0 2.83L4 21.41c.39.39.9.59 1.41.59.51 0 1.02-.2 1.41-.59l7.78-7.78 2.81-2.81c.8-.78.8-2.07 0-2.86zM5.41 20L4 18.59l7.72-7.72 1.47 1.35L5.41 20z\"/>\n",
              "  </svg>\n",
              "      </button>\n",
              "      \n",
              "  <style>\n",
              "    .colab-df-container {\n",
              "      display:flex;\n",
              "      flex-wrap:wrap;\n",
              "      gap: 12px;\n",
              "    }\n",
              "\n",
              "    .colab-df-convert {\n",
              "      background-color: #E8F0FE;\n",
              "      border: none;\n",
              "      border-radius: 50%;\n",
              "      cursor: pointer;\n",
              "      display: none;\n",
              "      fill: #1967D2;\n",
              "      height: 32px;\n",
              "      padding: 0 0 0 0;\n",
              "      width: 32px;\n",
              "    }\n",
              "\n",
              "    .colab-df-convert:hover {\n",
              "      background-color: #E2EBFA;\n",
              "      box-shadow: 0px 1px 2px rgba(60, 64, 67, 0.3), 0px 1px 3px 1px rgba(60, 64, 67, 0.15);\n",
              "      fill: #174EA6;\n",
              "    }\n",
              "\n",
              "    [theme=dark] .colab-df-convert {\n",
              "      background-color: #3B4455;\n",
              "      fill: #D2E3FC;\n",
              "    }\n",
              "\n",
              "    [theme=dark] .colab-df-convert:hover {\n",
              "      background-color: #434B5C;\n",
              "      box-shadow: 0px 1px 3px 1px rgba(0, 0, 0, 0.15);\n",
              "      filter: drop-shadow(0px 1px 2px rgba(0, 0, 0, 0.3));\n",
              "      fill: #FFFFFF;\n",
              "    }\n",
              "  </style>\n",
              "\n",
              "      <script>\n",
              "        const buttonEl =\n",
              "          document.querySelector('#df-c5cee420-4203-4814-ae51-712193015e6e button.colab-df-convert');\n",
              "        buttonEl.style.display =\n",
              "          google.colab.kernel.accessAllowed ? 'block' : 'none';\n",
              "\n",
              "        async function convertToInteractive(key) {\n",
              "          const element = document.querySelector('#df-c5cee420-4203-4814-ae51-712193015e6e');\n",
              "          const dataTable =\n",
              "            await google.colab.kernel.invokeFunction('convertToInteractive',\n",
              "                                                     [key], {});\n",
              "          if (!dataTable) return;\n",
              "\n",
              "          const docLinkHtml = 'Like what you see? Visit the ' +\n",
              "            '<a target=\"_blank\" href=https://colab.research.google.com/notebooks/data_table.ipynb>data table notebook</a>'\n",
              "            + ' to learn more about interactive tables.';\n",
              "          element.innerHTML = '';\n",
              "          dataTable['output_type'] = 'display_data';\n",
              "          await google.colab.output.renderOutput(dataTable, element);\n",
              "          const docLink = document.createElement('div');\n",
              "          docLink.innerHTML = docLinkHtml;\n",
              "          element.appendChild(docLink);\n",
              "        }\n",
              "      </script>\n",
              "    </div>\n",
              "  </div>\n",
              "  "
            ],
            "text/plain": [
              "                                   price  ...  number_of_reviews_ltm\n",
              "price                           1.000000  ...              -0.059639\n",
              "minimum_nights                  0.046045  ...               0.035162\n",
              "number_of_reviews              -0.080620  ...               0.522710\n",
              "reviews_per_month              -0.012470  ...               0.651516\n",
              "calculated_host_listings_count  0.102898  ...               0.009721\n",
              "number_of_reviews_ltm          -0.059639  ...               1.000000\n",
              "\n",
              "[6 rows x 6 columns]"
            ]
          },
          "metadata": {}
        }
      ]
    },
    {
      "cell_type": "markdown",
      "source": [
        "Para auxiliar nossa análise, vamos plotar um mapa de calor para visualizarmos graficamente onde podem existir correlações."
      ],
      "metadata": {
        "id": "6bw1iFo7Vh4G"
      }
    },
    {
      "cell_type": "code",
      "source": [
        "# plotando o heatmap\n",
        "sns.heatmap(matrix, cmap=\"YlGnBu\", annot=True);"
      ],
      "metadata": {
        "id": "MyPL_Beex2RE",
        "outputId": "dfbcaa56-4753-4acf-95fc-a7a17a062262",
        "colab": {
          "base_uri": "https://localhost:8080/",
          "height": 411
        }
      },
      "execution_count": null,
      "outputs": [
        {
          "output_type": "display_data",
          "data": {
            "image/png": "[encoded data removed]",
            "text/plain": [
              "<Figure size 432x288 with 2 Axes>"
            ]
          },
          "metadata": {
            "needs_background": "light"
          }
        }
      ]
    },
    {
      "cell_type": "markdown",
      "source": [
        "**Conclusão**: Pelo heatmap, vemos que existe uma correlação mais forte entre revisões por mês (`reviews_per_month`) e número de revisões dos últimos 12 meses (`number_of_reviews_ltm`)\n",
        "\n",
        "Seria interessante se fosse disponibilizado no dataset uma variável com a média das notas para os imóveis. Dessa forma, analisaríamos se há uma correlação positiva ou negativa do número de avaliações com as notas.\n",
        "\n",
        "Igualmente interessante seria comparar as notas dos imóveis com os preços das diárias, para verificarmos se os imóveis mais caros entregam de fato uma melhor experiência.\n",
        "\n",
        "Uma última sugestão de variável é a informação da data de início de alocações no airbnb. Teria potencial de gerar insights sobre quanto tempo os hosts estão na plataforma e a probabilidade da alocação ser velha ou precisar de manutenção. Poderia ter alguma correlação com as notas também."
      ],
      "metadata": {
        "id": "OYduwSIXyqmA"
      }
    },
    {
      "cell_type": "markdown",
      "source": [
        "# 5) Preços dos imóveis"
      ],
      "metadata": {
        "id": "A8T0yRl_c-yr"
      }
    },
    {
      "cell_type": "markdown",
      "metadata": {
        "id": "7x4aw1j5wNmn"
      },
      "source": [
        "## Qual é a média dos preços de aluguel?"
      ]
    },
    {
      "cell_type": "code",
      "metadata": {
        "id": "ff-8gUahLk-C",
        "colab": {
          "base_uri": "https://localhost:8080/"
        },
        "outputId": "3dc9cefd-e3a9-4038-c242-c54d07e3a27e"
      },
      "source": [
        "print('A média de preços de aluguel é {} euros'.format(round(df_clean.price.mean(), 2)))"
      ],
      "execution_count": null,
      "outputs": [
        {
          "output_type": "stream",
          "name": "stdout",
          "text": [
            "A média de preços de aluguel é 89.53 euros\n"
          ]
        }
      ]
    },
    {
      "cell_type": "markdown",
      "metadata": {
        "id": "vTneAMRUYvr1"
      },
      "source": [
        "## Qual é a média do mínimo de noites para aluguel (minimum_nights)?"
      ]
    },
    {
      "cell_type": "code",
      "metadata": {
        "id": "_VzNhrEgY82N",
        "outputId": "31c25a4f-229e-463e-d586-3f858b426c66",
        "colab": {
          "base_uri": "https://localhost:8080/"
        }
      },
      "source": [
        "print('A média do mínimo de noites é de {} noites'.format(round(df_clean.minimum_nights.mean(), 2)))"
      ],
      "execution_count": null,
      "outputs": [
        {
          "output_type": "stream",
          "name": "stdout",
          "text": [
            "A média do mínimo de noites é de 3.14 noites\n"
          ]
        }
      ]
    },
    {
      "cell_type": "markdown",
      "metadata": {
        "id": "MFa5NbnLJMcd"
      },
      "source": [
        "## Qual é a localidade mais cara do dataset?\n",
        "\n"
      ]
    },
    {
      "cell_type": "code",
      "metadata": {
        "id": "MD_xa143JZpi",
        "outputId": "7f9e0222-cbb6-4593-910a-9e24d069c55e",
        "colab": {
          "base_uri": "https://localhost:8080/"
        }
      },
      "source": [
        "print('Ranking dos 10 bairros/comunes mais caros da Sicília:\\n')\n",
        "print(df_clean.groupby(['neighbourhood']).price.mean().sort_values(ascending=False)[:10])"
      ],
      "execution_count": null,
      "outputs": [
        {
          "output_type": "stream",
          "name": "stdout",
          "text": [
            "Ranking dos 10 bairros/comunes mais caros da Sicília:\n",
            "\n",
            "neighbourhood\n",
            "Buccheri                 150.000000\n",
            "Gibellina                150.000000\n",
            "Centuripe                147.500000\n",
            "Valverde                 143.400000\n",
            "Montemaggiore Belsito    141.666667\n",
            "Trabia                   140.500000\n",
            "Racalmuto                140.000000\n",
            "Vittoria                 135.333333\n",
            "Naso                     130.000000\n",
            "Viagrande                130.000000\n",
            "Name: price, dtype: float64\n"
          ]
        }
      ]
    },
    {
      "cell_type": "markdown",
      "source": [
        "Os bairros/comunes mais caros são Buccheri e Gibellina, empatados com 150 euros.\n",
        "\n",
        "Vamos analisá-los com mais calma.\n"
      ],
      "metadata": {
        "id": "AUMpNAAq2hM4"
      }
    },
    {
      "cell_type": "markdown",
      "source": [
        "### Gibellina\n",
        "\n",
        "Por este [link](https://en.wikipedia.org/wiki/1968_Belice_earthquake) diz que a região sofreu um terremoto em 1968, que reduziu drasticamente a demografia do lugar. Trata-se de um lugar pouco povoado, com menos de 5 mil habitantes.\n",
        "\n",
        "Vamos investigar quantas alocações há no lugar, para saber se não há uma escassez na amostra."
      ],
      "metadata": {
        "id": "35qtW8P-Yofl"
      }
    },
    {
      "cell_type": "code",
      "metadata": {
        "id": "UxVJqJ_3W59I",
        "outputId": "8a9d07e4-8f2e-4971-e426-0cdbaab63892",
        "colab": {
          "base_uri": "https://localhost:8080/",
          "height": 214
        }
      },
      "source": [
        "print('O número de alocação de Gibelina é:', df_clean[df_clean.neighbourhood == 'Gibellina'].shape[0])\n",
        "print('\\n')\n",
        "display(df_clean[df_clean.neighbourhood == 'Gibellina'])"
      ],
      "execution_count": null,
      "outputs": [
        {
          "output_type": "stream",
          "name": "stdout",
          "text": [
            "O número de alocação de Gibelina é: 1\n",
            "\n",
            "\n"
          ]
        },
        {
          "output_type": "display_data",
          "data": {
            "text/html": [
              "\n",
              "  <div id=\"df-65eaff30-9868-4491-83b5-6ce465600619\">\n",
              "    <div class=\"colab-df-container\">\n",
              "      <div>\n",
              "<style scoped>\n",
              "    .dataframe tbody tr th:only-of-type {\n",
              "        vertical-align: middle;\n",
              "    }\n",
              "\n",
              "    .dataframe tbody tr th {\n",
              "        vertical-align: top;\n",
              "    }\n",
              "\n",
              "    .dataframe thead th {\n",
              "        text-align: right;\n",
              "    }\n",
              "</style>\n",
              "<table border=\"1\" class=\"dataframe\">\n",
              "  <thead>\n",
              "    <tr style=\"text-align: right;\">\n",
              "      <th></th>\n",
              "      <th>id</th>\n",
              "      <th>name</th>\n",
              "      <th>host_id</th>\n",
              "      <th>host_name</th>\n",
              "      <th>neighbourhood</th>\n",
              "      <th>latitude</th>\n",
              "      <th>longitude</th>\n",
              "      <th>room_type</th>\n",
              "      <th>price</th>\n",
              "      <th>minimum_nights</th>\n",
              "      <th>number_of_reviews</th>\n",
              "      <th>last_review</th>\n",
              "      <th>reviews_per_month</th>\n",
              "      <th>calculated_host_listings_count</th>\n",
              "      <th>availability_365</th>\n",
              "      <th>number_of_reviews_ltm</th>\n",
              "    </tr>\n",
              "  </thead>\n",
              "  <tbody>\n",
              "    <tr>\n",
              "      <th>25093</th>\n",
              "      <td>30153374</td>\n",
              "      <td>Gibellina Arte appartamento</td>\n",
              "      <td>149973279</td>\n",
              "      <td>Pietro</td>\n",
              "      <td>Gibellina</td>\n",
              "      <td>37.81259</td>\n",
              "      <td>12.86831</td>\n",
              "      <td>Entire home/apt</td>\n",
              "      <td>150</td>\n",
              "      <td>1</td>\n",
              "      <td>0</td>\n",
              "      <td>NaN</td>\n",
              "      <td>NaN</td>\n",
              "      <td>4</td>\n",
              "      <td>179</td>\n",
              "      <td>0</td>\n",
              "    </tr>\n",
              "  </tbody>\n",
              "</table>\n",
              "</div>\n",
              "      <button class=\"colab-df-convert\" onclick=\"convertToInteractive('df-65eaff30-9868-4491-83b5-6ce465600619')\"\n",
              "              title=\"Convert this dataframe to an interactive table.\"\n",
              "              style=\"display:none;\">\n",
              "        \n",
              "  <svg xmlns=\"http://www.w3.org/2000/svg\" height=\"24px\"viewBox=\"0 0 24 24\"\n",
              "       width=\"24px\">\n",
              "    <path d=\"M0 0h24v24H0V0z\" fill=\"none\"/>\n",
              "    <path d=\"M18.56 5.44l.94 2.06.94-2.06 2.06-.94-2.06-.94-.94-2.06-.94 2.06-2.06.94zm-11 1L8.5 8.5l.94-2.06 2.06-.94-2.06-.94L8.5 2.5l-.94 2.06-2.06.94zm10 10l.94 2.06.94-2.06 2.06-.94-2.06-.94-.94-2.06-.94 2.06-2.06.94z\"/><path d=\"M17.41 7.96l-1.37-1.37c-.4-.4-.92-.59-1.43-.59-.52 0-1.04.2-1.43.59L10.3 9.45l-7.72 7.72c-.78.78-.78 2.05 0 2.83L4 21.41c.39.39.9.59 1.41.59.51 0 1.02-.2 1.41-.59l7.78-7.78 2.81-2.81c.8-.78.8-2.07 0-2.86zM5.41 20L4 18.59l7.72-7.72 1.47 1.35L5.41 20z\"/>\n",
              "  </svg>\n",
              "      </button>\n",
              "      \n",
              "  <style>\n",
              "    .colab-df-container {\n",
              "      display:flex;\n",
              "      flex-wrap:wrap;\n",
              "      gap: 12px;\n",
              "    }\n",
              "\n",
              "    .colab-df-convert {\n",
              "      background-color: #E8F0FE;\n",
              "      border: none;\n",
              "      border-radius: 50%;\n",
              "      cursor: pointer;\n",
              "      display: none;\n",
              "      fill: #1967D2;\n",
              "      height: 32px;\n",
              "      padding: 0 0 0 0;\n",
              "      width: 32px;\n",
              "    }\n",
              "\n",
              "    .colab-df-convert:hover {\n",
              "      background-color: #E2EBFA;\n",
              "      box-shadow: 0px 1px 2px rgba(60, 64, 67, 0.3), 0px 1px 3px 1px rgba(60, 64, 67, 0.15);\n",
              "      fill: #174EA6;\n",
              "    }\n",
              "\n",
              "    [theme=dark] .colab-df-convert {\n",
              "      background-color: #3B4455;\n",
              "      fill: #D2E3FC;\n",
              "    }\n",
              "\n",
              "    [theme=dark] .colab-df-convert:hover {\n",
              "      background-color: #434B5C;\n",
              "      box-shadow: 0px 1px 3px 1px rgba(0, 0, 0, 0.15);\n",
              "      filter: drop-shadow(0px 1px 2px rgba(0, 0, 0, 0.3));\n",
              "      fill: #FFFFFF;\n",
              "    }\n",
              "  </style>\n",
              "\n",
              "      <script>\n",
              "        const buttonEl =\n",
              "          document.querySelector('#df-65eaff30-9868-4491-83b5-6ce465600619 button.colab-df-convert');\n",
              "        buttonEl.style.display =\n",
              "          google.colab.kernel.accessAllowed ? 'block' : 'none';\n",
              "\n",
              "        async function convertToInteractive(key) {\n",
              "          const element = document.querySelector('#df-65eaff30-9868-4491-83b5-6ce465600619');\n",
              "          const dataTable =\n",
              "            await google.colab.kernel.invokeFunction('convertToInteractive',\n",
              "                                                     [key], {});\n",
              "          if (!dataTable) return;\n",
              "\n",
              "          const docLinkHtml = 'Like what you see? Visit the ' +\n",
              "            '<a target=\"_blank\" href=https://colab.research.google.com/notebooks/data_table.ipynb>data table notebook</a>'\n",
              "            + ' to learn more about interactive tables.';\n",
              "          element.innerHTML = '';\n",
              "          dataTable['output_type'] = 'display_data';\n",
              "          await google.colab.output.renderOutput(dataTable, element);\n",
              "          const docLink = document.createElement('div');\n",
              "          docLink.innerHTML = docLinkHtml;\n",
              "          element.appendChild(docLink);\n",
              "        }\n",
              "      </script>\n",
              "    </div>\n",
              "  </div>\n",
              "  "
            ],
            "text/plain": [
              "             id  ... number_of_reviews_ltm\n",
              "25093  30153374  ...                     0\n",
              "\n",
              "[1 rows x 16 columns]"
            ]
          },
          "metadata": {}
        }
      ]
    },
    {
      "cell_type": "markdown",
      "source": [
        "### Buccheri\n",
        "\n",
        "Buccheri é ainda menos povoado que Gibellina, com menos de 2 mil habitantes. Muito provavelmente o volume de alocações oferecidas seja tão baixo quanto Gibellina.\n",
        "\n",
        "Vamos investigar quantas alocações há no lugar, para saber se não há uma escassez na amostra."
      ],
      "metadata": {
        "id": "ciQqJwwWZESl"
      }
    },
    {
      "cell_type": "code",
      "source": [
        "print('O número de alocação de Buccheri é:', df_clean[df_clean.neighbourhood == 'Buccheri'].shape[0])\n",
        "print('\\n')\n",
        "display(df_clean[df_clean.neighbourhood == 'Buccheri'])"
      ],
      "metadata": {
        "id": "u4TlTbSAXXCa",
        "outputId": "77769fcc-b6a8-494b-e80d-c84944c1a173",
        "colab": {
          "base_uri": "https://localhost:8080/",
          "height": 266
        }
      },
      "execution_count": null,
      "outputs": [
        {
          "output_type": "stream",
          "name": "stdout",
          "text": [
            "O número de alocação de Buccheri é: 1\n",
            "\n",
            "\n"
          ]
        },
        {
          "output_type": "display_data",
          "data": {
            "text/html": [
              "\n",
              "  <div id=\"df-6f8bbfd1-3e63-48b3-8d92-7b2a2ce79fd0\">\n",
              "    <div class=\"colab-df-container\">\n",
              "      <div>\n",
              "<style scoped>\n",
              "    .dataframe tbody tr th:only-of-type {\n",
              "        vertical-align: middle;\n",
              "    }\n",
              "\n",
              "    .dataframe tbody tr th {\n",
              "        vertical-align: top;\n",
              "    }\n",
              "\n",
              "    .dataframe thead th {\n",
              "        text-align: right;\n",
              "    }\n",
              "</style>\n",
              "<table border=\"1\" class=\"dataframe\">\n",
              "  <thead>\n",
              "    <tr style=\"text-align: right;\">\n",
              "      <th></th>\n",
              "      <th>id</th>\n",
              "      <th>name</th>\n",
              "      <th>host_id</th>\n",
              "      <th>host_name</th>\n",
              "      <th>neighbourhood</th>\n",
              "      <th>latitude</th>\n",
              "      <th>longitude</th>\n",
              "      <th>room_type</th>\n",
              "      <th>price</th>\n",
              "      <th>minimum_nights</th>\n",
              "      <th>number_of_reviews</th>\n",
              "      <th>last_review</th>\n",
              "      <th>reviews_per_month</th>\n",
              "      <th>calculated_host_listings_count</th>\n",
              "      <th>availability_365</th>\n",
              "      <th>number_of_reviews_ltm</th>\n",
              "    </tr>\n",
              "  </thead>\n",
              "  <tbody>\n",
              "    <tr>\n",
              "      <th>36004</th>\n",
              "      <td>43565744</td>\n",
              "      <td>Casa indipendente con vista sul vulcano a Bucc...</td>\n",
              "      <td>181443651</td>\n",
              "      <td>Mariella</td>\n",
              "      <td>Buccheri</td>\n",
              "      <td>37.12829</td>\n",
              "      <td>14.85211</td>\n",
              "      <td>Entire home/apt</td>\n",
              "      <td>150</td>\n",
              "      <td>3</td>\n",
              "      <td>1</td>\n",
              "      <td>2021-08-10</td>\n",
              "      <td>0.21</td>\n",
              "      <td>4</td>\n",
              "      <td>151</td>\n",
              "      <td>1</td>\n",
              "    </tr>\n",
              "  </tbody>\n",
              "</table>\n",
              "</div>\n",
              "      <button class=\"colab-df-convert\" onclick=\"convertToInteractive('df-6f8bbfd1-3e63-48b3-8d92-7b2a2ce79fd0')\"\n",
              "              title=\"Convert this dataframe to an interactive table.\"\n",
              "              style=\"display:none;\">\n",
              "        \n",
              "  <svg xmlns=\"http://www.w3.org/2000/svg\" height=\"24px\"viewBox=\"0 0 24 24\"\n",
              "       width=\"24px\">\n",
              "    <path d=\"M0 0h24v24H0V0z\" fill=\"none\"/>\n",
              "    <path d=\"M18.56 5.44l.94 2.06.94-2.06 2.06-.94-2.06-.94-.94-2.06-.94 2.06-2.06.94zm-11 1L8.5 8.5l.94-2.06 2.06-.94-2.06-.94L8.5 2.5l-.94 2.06-2.06.94zm10 10l.94 2.06.94-2.06 2.06-.94-2.06-.94-.94-2.06-.94 2.06-2.06.94z\"/><path d=\"M17.41 7.96l-1.37-1.37c-.4-.4-.92-.59-1.43-.59-.52 0-1.04.2-1.43.59L10.3 9.45l-7.72 7.72c-.78.78-.78 2.05 0 2.83L4 21.41c.39.39.9.59 1.41.59.51 0 1.02-.2 1.41-.59l7.78-7.78 2.81-2.81c.8-.78.8-2.07 0-2.86zM5.41 20L4 18.59l7.72-7.72 1.47 1.35L5.41 20z\"/>\n",
              "  </svg>\n",
              "      </button>\n",
              "      \n",
              "  <style>\n",
              "    .colab-df-container {\n",
              "      display:flex;\n",
              "      flex-wrap:wrap;\n",
              "      gap: 12px;\n",
              "    }\n",
              "\n",
              "    .colab-df-convert {\n",
              "      background-color: #E8F0FE;\n",
              "      border: none;\n",
              "      border-radius: 50%;\n",
              "      cursor: pointer;\n",
              "      display: none;\n",
              "      fill: #1967D2;\n",
              "      height: 32px;\n",
              "      padding: 0 0 0 0;\n",
              "      width: 32px;\n",
              "    }\n",
              "\n",
              "    .colab-df-convert:hover {\n",
              "      background-color: #E2EBFA;\n",
              "      box-shadow: 0px 1px 2px rgba(60, 64, 67, 0.3), 0px 1px 3px 1px rgba(60, 64, 67, 0.15);\n",
              "      fill: #174EA6;\n",
              "    }\n",
              "\n",
              "    [theme=dark] .colab-df-convert {\n",
              "      background-color: #3B4455;\n",
              "      fill: #D2E3FC;\n",
              "    }\n",
              "\n",
              "    [theme=dark] .colab-df-convert:hover {\n",
              "      background-color: #434B5C;\n",
              "      box-shadow: 0px 1px 3px 1px rgba(0, 0, 0, 0.15);\n",
              "      filter: drop-shadow(0px 1px 2px rgba(0, 0, 0, 0.3));\n",
              "      fill: #FFFFFF;\n",
              "    }\n",
              "  </style>\n",
              "\n",
              "      <script>\n",
              "        const buttonEl =\n",
              "          document.querySelector('#df-6f8bbfd1-3e63-48b3-8d92-7b2a2ce79fd0 button.colab-df-convert');\n",
              "        buttonEl.style.display =\n",
              "          google.colab.kernel.accessAllowed ? 'block' : 'none';\n",
              "\n",
              "        async function convertToInteractive(key) {\n",
              "          const element = document.querySelector('#df-6f8bbfd1-3e63-48b3-8d92-7b2a2ce79fd0');\n",
              "          const dataTable =\n",
              "            await google.colab.kernel.invokeFunction('convertToInteractive',\n",
              "                                                     [key], {});\n",
              "          if (!dataTable) return;\n",
              "\n",
              "          const docLinkHtml = 'Like what you see? Visit the ' +\n",
              "            '<a target=\"_blank\" href=https://colab.research.google.com/notebooks/data_table.ipynb>data table notebook</a>'\n",
              "            + ' to learn more about interactive tables.';\n",
              "          element.innerHTML = '';\n",
              "          dataTable['output_type'] = 'display_data';\n",
              "          await google.colab.output.renderOutput(dataTable, element);\n",
              "          const docLink = document.createElement('div');\n",
              "          docLink.innerHTML = docLinkHtml;\n",
              "          element.appendChild(docLink);\n",
              "        }\n",
              "      </script>\n",
              "    </div>\n",
              "  </div>\n",
              "  "
            ],
            "text/plain": [
              "             id  ... number_of_reviews_ltm\n",
              "36004  43565744  ...                     1\n",
              "\n",
              "[1 rows x 16 columns]"
            ]
          },
          "metadata": {}
        }
      ]
    },
    {
      "cell_type": "markdown",
      "source": [
        "Nossa investigação sobre a localidade do dataset não foi muito precisa, pois as comunes com baixo volume de imóveis geram um viés no resultado, comprometendo-o."
      ],
      "metadata": {
        "id": "P5WfJ9l3ZeAG"
      }
    },
    {
      "cell_type": "markdown",
      "source": [
        "# 6) Busca pela estadia ideal"
      ],
      "metadata": {
        "id": "u11XB7zueGOu"
      }
    },
    {
      "cell_type": "markdown",
      "metadata": {
        "id": "7b6RMWpuHKN-"
      },
      "source": [
        "## Qual o tipo de imóvel mais alugado no Airbnb?"
      ]
    },
    {
      "cell_type": "code",
      "metadata": {
        "id": "ueLPNWvPHgfB",
        "outputId": "07212f09-5b15-4f2e-f150-fcce53167d19",
        "colab": {
          "base_uri": "https://localhost:8080/"
        }
      },
      "source": [
        "print('Valores absolutos')\n",
        "print('\\n')\n",
        "print(df_clean.room_type.value_counts())\n",
        "print('\\n')\n",
        "print('Visão percentual')\n",
        "print('\\n')\n",
        "print(df_clean.room_type.value_counts() / df_clean.shape[0])\n",
        "print('\\n')\n",
        "print('O tipo de alocação mais alugada é \"Entire home/apt\"')"
      ],
      "execution_count": null,
      "outputs": [
        {
          "output_type": "stream",
          "name": "stdout",
          "text": [
            "Valores absolutos\n",
            "\n",
            "\n",
            "Entire home/apt    4075\n",
            "Private room       2303\n",
            "Hotel room          247\n",
            "Shared room           4\n",
            "Name: room_type, dtype: int64\n",
            "\n",
            "\n",
            "Visão percentual\n",
            "\n",
            "\n",
            "Entire home/apt    0.614723\n",
            "Private room       0.347413\n",
            "Hotel room         0.037261\n",
            "Shared room        0.000603\n",
            "Name: room_type, dtype: float64\n",
            "\n",
            "\n",
            "O tipo de alocação mais alugada é \"Entire home/apt\"\n"
          ]
        }
      ]
    },
    {
      "cell_type": "markdown",
      "source": [
        "Chegou o momento de planejar minha viagem para a Sicília. Sou do tipo de viajante que economiza na hospedagem. Logo, vou me basear pelo preço médio da ilha.\n",
        "\n",
        "Vimos na sessão anterior que o preço médio da diária é aproximadamente 89 euros. Na tentativas de evitar perrengues, vou escolher o imóvel com o valor mais próximo possível da média de 89 euros. 🤔\n",
        "\n",
        "Pelo [site](https://descobrindoasicilia.com/) que estou usando como referência, as principais cidades são: Palermo, Catania, Taormina e Siracusa. Minha ideia é passar duas noites em cada uma. Logo, a alocação precisa ter um mínimo de noites de 2 ou 1.\n",
        "\n",
        "Como a grande maioria das opções são do tipo \"Entire home/apt\", vou restringir minha busca apenas a esse tipo de alocação 😀\n",
        "\n",
        "Ao final, ainda vou calcular o preço total para dois dias em cada uma das cidades selecionadas 💸\n",
        "\n",
        "Vamos lá..."
      ],
      "metadata": {
        "id": "ybbAwtwGePAq"
      }
    },
    {
      "cell_type": "code",
      "source": [
        "# setando valores pelas regras que defini acima\n",
        "\n",
        "# preço\n",
        "preco_target = df_clean.price.mean()\n",
        "# cidades\n",
        "cidades = ['Palermo', 'Catania', 'Taormina', 'Siracusa']\n",
        "# numero de noites\n",
        "noites = 2\n",
        "# tipo de alocação\n",
        "alocacao = 'Entire home/apt'\n",
        "# total de gasto com hospedagem\n",
        "gasto_total = 0\n",
        "\n",
        "for i in cidades:\n",
        "  opcao_escolhida = df_clean.loc[(df_clean.price <= preco_target) &\n",
        "             (df_clean.neighbourhood == i) &\n",
        "             (df_clean.minimum_nights <= noites) &\n",
        "             (df_clean.room_type <= alocacao)].sort_values('price', ascending=False)[0:1][['name', 'host_name', 'price', 'neighbourhood']]\n",
        "  gasto_total += opcao_escolhida.values[0][2]\n",
        "  print('Cidade: {}'.format(opcao_escolhida.values[0][3]))\n",
        "  print('Nome do imóvel: {}'.format(opcao_escolhida.values[0][0]))\n",
        "  print('Host: {}'.format(opcao_escolhida.values[0][1]))\n",
        "  print('Preço: {}\\n'.format(opcao_escolhida.values[0][2]))\n",
        "\n",
        "print('Gasto total com hospedagem: {} euros'.format(gasto_total))"
      ],
      "metadata": {
        "id": "hyc_WpbheOyG",
        "outputId": "d18d20c7-7a80-49b7-a621-f1da51108402",
        "colab": {
          "base_uri": "https://localhost:8080/"
        }
      },
      "execution_count": null,
      "outputs": [
        {
          "output_type": "stream",
          "name": "stdout",
          "text": [
            "Cidade: Palermo\n",
            "Nome do imóvel: Charming apartment with large terrace\n",
            "Host: Paola\n",
            "Preço: 88\n",
            "\n",
            "Cidade: Catania\n",
            "Nome do imóvel: Dimora nobiliare nel salotto di Catania i Puritani\n",
            "Host: Giuseppe\n",
            "Preço: 88\n",
            "\n",
            "Cidade: Taormina\n",
            "Nome do imóvel: On The Beach Taormina Dual\n",
            "Host: Francesco\n",
            "Preço: 89\n",
            "\n",
            "Cidade: Siracusa\n",
            "Nome do imóvel: Siracusa Stefal House\n",
            "Host: Alessandra & Stefano\n",
            "Preço: 87\n",
            "\n",
            "Gasto total com hospedagem: 352 euros\n"
          ]
        }
      ]
    },
    {
      "cell_type": "markdown",
      "source": [
        "Perfeito, agora  sei quanto devo separar para hospedagem 🙂"
      ],
      "metadata": {
        "id": "DEINsxCRmlbZ"
      }
    },
    {
      "cell_type": "markdown",
      "source": [
        "Por fim, como são fornecidas as Latitudes e Longitudes para as alocações, eu consigo determinar sua localização geográfica, assim como as faixas de preço em torno da ilha. Usaremos `x=longitude` e `y=latitude`.\n",
        "\n",
        "A barra do espectro de cores ao lado mostra o intervalo de preço dos imóveis, que varia do roxo (mais barato) ao rubro (mais caro)"
      ],
      "metadata": {
        "id": "9UJCs9-z4e-a"
      }
    },
    {
      "cell_type": "code",
      "source": [
        "df_clean.plot(kind='scatter', x='longitude', y='latitude', alpha=0.6, c=df_clean['price'], s=20, cmap=plt.get_cmap('jet'), figsize=(12,8))"
      ],
      "metadata": {
        "id": "ZZ67Bs1i4dxo",
        "outputId": "9747e05b-c4d2-4c7f-e219-f5dcbe148323",
        "colab": {
          "base_uri": "https://localhost:8080/",
          "height": 486
        }
      },
      "execution_count": null,
      "outputs": [
        {
          "output_type": "execute_result",
          "data": {
            "text/plain": [
              "<matplotlib.axes._subplots.AxesSubplot at 0x7f9395eaa390>"
            ]
          },
          "metadata": {},
          "execution_count": 28
        },
        {
          "output_type": "display_data",
          "data": {
            "image/png": "[encoded data removed]",
            "text/plain": [
              "<Figure size 864x576 with 2 Axes>"
            ]
          },
          "metadata": {
            "needs_background": "light"
          }
        }
      ]
    },
    {
      "cell_type": "markdown",
      "source": [
        "De fato, olhando no [mapa da ilha](https://www.google.com/maps/d/viewer?mid=1lGy7r4h06IdH1pRGzGjPFocNnwI&ll=37.533270495524114%2C14.413126824351679&z=9), percebemos que as cidades selecionadas possuem uma grande concentração de opções de imóveis em torno. Significa que são boas cidades para eu usar como base para explorar os arredores 🛫"
      ],
      "metadata": {
        "id": "S9Q80rnOqPby"
      }
    },
    {
      "cell_type": "markdown",
      "metadata": {
        "id": "GkvAg623RjoR"
      },
      "source": [
        "# 7) Conclusões\n"
      ]
    },
    {
      "cell_type": "markdown",
      "metadata": {
        "id": "rbZ3Hsy9Ypw8"
      },
      "source": [
        "\n",
        "\n",
        "1.   Havia outliers nos campos `price`,\t`minimum_nights`,\t`number_of_reviews`, `reviews_per_month`, `calculated_host_listings_count` e `number_of_reviews_ltm`;\n",
        "2.  Seria interessante que o dataset tivesse a informação da data de início de alocações no airbnb, assim como a média das notas dos imóveis;\n",
        "3.  Existe uam correlação interessante entre revisões por mês (reviews_per_month) e número de revisões dos últimos 12 meses (number_of_reviews_ltm);\n",
        "4. Os bairros/comunes mais caro são Gibellina e Buccheri. Porém, essa informação não nos deu muitos insights, pois o volume de imóveis é diminuto em abas, o que torna a análise enviesada.\n",
        "5. Conseguimos montar um roteiro de 8 noites em 4 das principais cidades da Sicília e calculamos ainda o preço que seria destinado à hospedagem seguindo um conjunto de premissas;\n",
        "6. Pelo mapa a partir das latitudes e longitudes, podemos ver que há uma maior concentração de alocações no litoral da ilha, sobretudo em cidades maiores como Palermo (possui aeroporto), Catania, Siracusa e Taormina.\n"
      ]
    }
  ]
}