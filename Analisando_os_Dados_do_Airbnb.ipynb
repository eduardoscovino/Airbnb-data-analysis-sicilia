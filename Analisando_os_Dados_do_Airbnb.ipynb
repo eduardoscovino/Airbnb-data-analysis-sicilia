{
  "nbformat": 4,
  "nbformat_minor": 0,
  "metadata": {
    "colab": {
      "name": "[Template] Analisando os Dados do Airbnb.ipynb",
      "provenance": [],
      "collapsed_sections": [],
      "include_colab_link": true
    },
    "kernelspec": {
      "name": "python3",
      "display_name": "Python 3"
    }
  },
  "cells": [
    {
      "cell_type": "markdown",
      "metadata": {
        "id": "view-in-github",
        "colab_type": "text"
      },
      "source": [
        "<a href=\"https://colab.research.google.com/github/eduardoscovino/Airbnb-data-analysis-sicilia/blob/main/Analisando_os_Dados_do_Airbnb.ipynb\" target=\"_parent\"><img src=\"https://colab.research.google.com/assets/colab-badge.svg\" alt=\"Open In Colab\"/></a>"
      ]
    },
    {
      "cell_type": "markdown",
      "metadata": {
        "id": "kLI0gJtzDGuQ"
      },
      "source": [
        "<img alt=\"Colaboratory logo\" width=\"15%\" src=\"https://raw.githubusercontent.com/carlosfab/escola-data-science/master/img/novo_logo_bg_claro.png\">\n",
        "\n",
        "#### **Data Science na Prática 3.0**\n",
        "*by [sigmoidal.ai](https://sigmoidal.ai)*\n",
        "\n",
        "---\n",
        "\n",
        "# Análise dos Dados do Airbnb - *Sicília*\n",
        "\n",
        "O [Airbnb](https://www.airbnb.com.br/) já é considerado como sendo a **maior empresa hoteleira da atualidade**. Ah, o detalhe é que ele **não possui nenhum hotel**!\n",
        "\n",
        "Conectando pessoas que querem viajar (e se hospedar) com anfitriões que querem alugar seus imóveis de maneira prática, o Airbnb fornece uma plataforma inovadora para tornar essa hospedagem alternativa.\n",
        "\n",
        "No final de 2018, a Startup fundada 10 anos atrás, já havia **hospedado mais de 300 milhões** de pessoas ao redor de todo o mundo, desafiando as redes hoteleiras tradicionais.\n",
        "\n",
        "Uma das iniciativas do Airbnb é disponibilizar dados do site, para algumas das principais cidades do mundo. Por meio do portal [Inside Airbnb](http://insideairbnb.com/get-the-data.html), é possível baixar uma grande quantidade de dados para desenvolver projetos e soluções de *Data Science*.\n",
        "\n",
        "<center><img alt=\"Analisando Airbnb\" width=\"10%\" src=\"https://www.area360.com.au/wp-content/uploads/2017/09/airbnb-logo.jpg\"></center>\n",
        "\n",
        "**Neste *notebook*, iremos analisar os dados referentes à cidade de Sicília, na Itália, e ver quais insights podem ser extraídos a partir de dados brutos.**"
      ]
    },
    {
      "cell_type": "markdown",
      "metadata": {
        "id": "0zxQHhIUDF_2"
      },
      "source": [
        "## Obtenção dos Dados\n"
      ]
    },
    {
      "cell_type": "code",
      "metadata": {
        "id": "Vhp2wMPgJ6zX"
      },
      "source": [
        "import pandas as pd\n",
        "from matplotlib import pyplot as plt\n",
        "import numpy as np"
      ],
      "execution_count": 1,
      "outputs": []
    },
    {
      "cell_type": "code",
      "metadata": {
        "id": "tUmoAT8DLQ5T"
      },
      "source": [
        "df = pd.read_csv('http://data.insideairbnb.com/italy/sicilia/sicily/2021-12-28/visualisations/listings.csv')"
      ],
      "execution_count": 2,
      "outputs": []
    },
    {
      "cell_type": "markdown",
      "metadata": {
        "id": "qb5By2nIMS6m"
      },
      "source": [
        "## Análise dos Dados\n"
      ]
    },
    {
      "cell_type": "markdown",
      "metadata": {
        "id": "RYgvuebKNg8-"
      },
      "source": [
        "## **Dicionário das variáveis**\n",
        "\n",
        "* `id`: id único da alocação\n",
        "* `name`: nome da alocação\n",
        "* `host_id`: id único do host\n",
        "* `host_name`: nome do host\n",
        "* `neighbourhood_group`: contém apenas valores nulos\n",
        "* `neighbourhood`: bairro da alocação\n",
        "* `latitude`: latitude da alocação\n",
        "* `longitude`: longitude da alocação\n",
        "* `room_type`: tipo de alocação (quarto privado, apto inteiro, quarto compartilhado, etc.)\n",
        "* `price`: preço da alocação (moeda não especificada)\n",
        "* `minimum_nights`: mínimo de noites para efetuar a reserva\n",
        "* `number of reviews`: número de avaliações da alocação\n",
        "* `last_review`: data da última avaliação\n",
        "* `reviews_per_month`: média de avaliações por mês\n",
        "* `calculated_host_listings_count`: quantidade de alocações do host\n",
        "* `availability_365`: número de dias em que a alocação está disponível no ano\n",
        "* `number_of_reviews_ltm`: número de avaliações nos últimos 12 meses\n",
        "* `license`: licença da alocação"
      ]
    },
    {
      "cell_type": "code",
      "metadata": {
        "id": "2iS_dae7YQtO",
        "outputId": "af05a758-5da9-4aa3-9db4-2b52260da3db",
        "colab": {
          "base_uri": "https://localhost:8080/",
          "height": 565
        }
      },
      "source": [
        "df.head()"
      ],
      "execution_count": 3,
      "outputs": [
        {
          "output_type": "execute_result",
          "data": {
            "text/html": [
              "\n",
              "  <div id=\"df-3e59f4d0-331b-4993-b583-fc555d74be2d\">\n",
              "    <div class=\"colab-df-container\">\n",
              "      <div>\n",
              "<style scoped>\n",
              "    .dataframe tbody tr th:only-of-type {\n",
              "        vertical-align: middle;\n",
              "    }\n",
              "\n",
              "    .dataframe tbody tr th {\n",
              "        vertical-align: top;\n",
              "    }\n",
              "\n",
              "    .dataframe thead th {\n",
              "        text-align: right;\n",
              "    }\n",
              "</style>\n",
              "<table border=\"1\" class=\"dataframe\">\n",
              "  <thead>\n",
              "    <tr style=\"text-align: right;\">\n",
              "      <th></th>\n",
              "      <th>id</th>\n",
              "      <th>name</th>\n",
              "      <th>host_id</th>\n",
              "      <th>host_name</th>\n",
              "      <th>neighbourhood_group</th>\n",
              "      <th>neighbourhood</th>\n",
              "      <th>latitude</th>\n",
              "      <th>longitude</th>\n",
              "      <th>room_type</th>\n",
              "      <th>price</th>\n",
              "      <th>minimum_nights</th>\n",
              "      <th>number_of_reviews</th>\n",
              "      <th>last_review</th>\n",
              "      <th>reviews_per_month</th>\n",
              "      <th>calculated_host_listings_count</th>\n",
              "      <th>availability_365</th>\n",
              "      <th>number_of_reviews_ltm</th>\n",
              "      <th>license</th>\n",
              "    </tr>\n",
              "  </thead>\n",
              "  <tbody>\n",
              "    <tr>\n",
              "      <th>0</th>\n",
              "      <td>7011</td>\n",
              "      <td>SEASIDE - Historic Antique Residence</td>\n",
              "      <td>16888</td>\n",
              "      <td>Salinara Yu&amp;Ad</td>\n",
              "      <td>NaN</td>\n",
              "      <td>Marsala</td>\n",
              "      <td>37.84047</td>\n",
              "      <td>12.47778</td>\n",
              "      <td>Entire home/apt</td>\n",
              "      <td>200</td>\n",
              "      <td>3</td>\n",
              "      <td>31</td>\n",
              "      <td>2021-09-29</td>\n",
              "      <td>0.21</td>\n",
              "      <td>9</td>\n",
              "      <td>167</td>\n",
              "      <td>3</td>\n",
              "      <td>NaN</td>\n",
              "    </tr>\n",
              "    <tr>\n",
              "      <th>1</th>\n",
              "      <td>15371</td>\n",
              "      <td>Summer Holidays @ VILLA ROSA</td>\n",
              "      <td>58333</td>\n",
              "      <td>Gianluca</td>\n",
              "      <td>NaN</td>\n",
              "      <td>Petrosino</td>\n",
              "      <td>37.70821</td>\n",
              "      <td>12.51400</td>\n",
              "      <td>Entire home/apt</td>\n",
              "      <td>35</td>\n",
              "      <td>1</td>\n",
              "      <td>6</td>\n",
              "      <td>2016-08-26</td>\n",
              "      <td>0.07</td>\n",
              "      <td>1</td>\n",
              "      <td>364</td>\n",
              "      <td>0</td>\n",
              "      <td>NaN</td>\n",
              "    </tr>\n",
              "    <tr>\n",
              "      <th>2</th>\n",
              "      <td>22948</td>\n",
              "      <td>B&amp;B NEAR STATION ROOM WITH BALCONY</td>\n",
              "      <td>88837</td>\n",
              "      <td>Giuseppe</td>\n",
              "      <td>NaN</td>\n",
              "      <td>Agrigento</td>\n",
              "      <td>37.30885</td>\n",
              "      <td>13.58582</td>\n",
              "      <td>Private room</td>\n",
              "      <td>29</td>\n",
              "      <td>1</td>\n",
              "      <td>298</td>\n",
              "      <td>2021-11-29</td>\n",
              "      <td>2.37</td>\n",
              "      <td>3</td>\n",
              "      <td>347</td>\n",
              "      <td>35</td>\n",
              "      <td>NaN</td>\n",
              "    </tr>\n",
              "    <tr>\n",
              "      <th>3</th>\n",
              "      <td>28379</td>\n",
              "      <td>Apartment in Taormina - Rinaldo</td>\n",
              "      <td>121867</td>\n",
              "      <td>Francesca</td>\n",
              "      <td>NaN</td>\n",
              "      <td>Taormina</td>\n",
              "      <td>37.85172</td>\n",
              "      <td>15.28420</td>\n",
              "      <td>Entire home/apt</td>\n",
              "      <td>74</td>\n",
              "      <td>2</td>\n",
              "      <td>272</td>\n",
              "      <td>2021-11-04</td>\n",
              "      <td>1.96</td>\n",
              "      <td>5</td>\n",
              "      <td>303</td>\n",
              "      <td>18</td>\n",
              "      <td>NaN</td>\n",
              "    </tr>\n",
              "    <tr>\n",
              "      <th>4</th>\n",
              "      <td>35264</td>\n",
              "      <td>Etna-sea a panoramic villa</td>\n",
              "      <td>151644</td>\n",
              "      <td>Serena</td>\n",
              "      <td>NaN</td>\n",
              "      <td>Piedimonte Etneo</td>\n",
              "      <td>37.82464</td>\n",
              "      <td>15.15739</td>\n",
              "      <td>Entire home/apt</td>\n",
              "      <td>164</td>\n",
              "      <td>2</td>\n",
              "      <td>144</td>\n",
              "      <td>2021-09-10</td>\n",
              "      <td>1.03</td>\n",
              "      <td>4</td>\n",
              "      <td>360</td>\n",
              "      <td>2</td>\n",
              "      <td>NaN</td>\n",
              "    </tr>\n",
              "  </tbody>\n",
              "</table>\n",
              "</div>\n",
              "      <button class=\"colab-df-convert\" onclick=\"convertToInteractive('df-3e59f4d0-331b-4993-b583-fc555d74be2d')\"\n",
              "              title=\"Convert this dataframe to an interactive table.\"\n",
              "              style=\"display:none;\">\n",
              "        \n",
              "  <svg xmlns=\"http://www.w3.org/2000/svg\" height=\"24px\"viewBox=\"0 0 24 24\"\n",
              "       width=\"24px\">\n",
              "    <path d=\"M0 0h24v24H0V0z\" fill=\"none\"/>\n",
              "    <path d=\"M18.56 5.44l.94 2.06.94-2.06 2.06-.94-2.06-.94-.94-2.06-.94 2.06-2.06.94zm-11 1L8.5 8.5l.94-2.06 2.06-.94-2.06-.94L8.5 2.5l-.94 2.06-2.06.94zm10 10l.94 2.06.94-2.06 2.06-.94-2.06-.94-.94-2.06-.94 2.06-2.06.94z\"/><path d=\"M17.41 7.96l-1.37-1.37c-.4-.4-.92-.59-1.43-.59-.52 0-1.04.2-1.43.59L10.3 9.45l-7.72 7.72c-.78.78-.78 2.05 0 2.83L4 21.41c.39.39.9.59 1.41.59.51 0 1.02-.2 1.41-.59l7.78-7.78 2.81-2.81c.8-.78.8-2.07 0-2.86zM5.41 20L4 18.59l7.72-7.72 1.47 1.35L5.41 20z\"/>\n",
              "  </svg>\n",
              "      </button>\n",
              "      \n",
              "  <style>\n",
              "    .colab-df-container {\n",
              "      display:flex;\n",
              "      flex-wrap:wrap;\n",
              "      gap: 12px;\n",
              "    }\n",
              "\n",
              "    .colab-df-convert {\n",
              "      background-color: #E8F0FE;\n",
              "      border: none;\n",
              "      border-radius: 50%;\n",
              "      cursor: pointer;\n",
              "      display: none;\n",
              "      fill: #1967D2;\n",
              "      height: 32px;\n",
              "      padding: 0 0 0 0;\n",
              "      width: 32px;\n",
              "    }\n",
              "\n",
              "    .colab-df-convert:hover {\n",
              "      background-color: #E2EBFA;\n",
              "      box-shadow: 0px 1px 2px rgba(60, 64, 67, 0.3), 0px 1px 3px 1px rgba(60, 64, 67, 0.15);\n",
              "      fill: #174EA6;\n",
              "    }\n",
              "\n",
              "    [theme=dark] .colab-df-convert {\n",
              "      background-color: #3B4455;\n",
              "      fill: #D2E3FC;\n",
              "    }\n",
              "\n",
              "    [theme=dark] .colab-df-convert:hover {\n",
              "      background-color: #434B5C;\n",
              "      box-shadow: 0px 1px 3px 1px rgba(0, 0, 0, 0.15);\n",
              "      filter: drop-shadow(0px 1px 2px rgba(0, 0, 0, 0.3));\n",
              "      fill: #FFFFFF;\n",
              "    }\n",
              "  </style>\n",
              "\n",
              "      <script>\n",
              "        const buttonEl =\n",
              "          document.querySelector('#df-3e59f4d0-331b-4993-b583-fc555d74be2d button.colab-df-convert');\n",
              "        buttonEl.style.display =\n",
              "          google.colab.kernel.accessAllowed ? 'block' : 'none';\n",
              "\n",
              "        async function convertToInteractive(key) {\n",
              "          const element = document.querySelector('#df-3e59f4d0-331b-4993-b583-fc555d74be2d');\n",
              "          const dataTable =\n",
              "            await google.colab.kernel.invokeFunction('convertToInteractive',\n",
              "                                                     [key], {});\n",
              "          if (!dataTable) return;\n",
              "\n",
              "          const docLinkHtml = 'Like what you see? Visit the ' +\n",
              "            '<a target=\"_blank\" href=https://colab.research.google.com/notebooks/data_table.ipynb>data table notebook</a>'\n",
              "            + ' to learn more about interactive tables.';\n",
              "          element.innerHTML = '';\n",
              "          dataTable['output_type'] = 'display_data';\n",
              "          await google.colab.output.renderOutput(dataTable, element);\n",
              "          const docLink = document.createElement('div');\n",
              "          docLink.innerHTML = docLinkHtml;\n",
              "          element.appendChild(docLink);\n",
              "        }\n",
              "      </script>\n",
              "    </div>\n",
              "  </div>\n",
              "  "
            ],
            "text/plain": [
              "      id                                  name  ...  number_of_reviews_ltm license\n",
              "0   7011  SEASIDE - Historic Antique Residence  ...                      3     NaN\n",
              "1  15371          Summer Holidays @ VILLA ROSA  ...                      0     NaN\n",
              "2  22948    B&B NEAR STATION ROOM WITH BALCONY  ...                     35     NaN\n",
              "3  28379       Apartment in Taormina - Rinaldo  ...                     18     NaN\n",
              "4  35264            Etna-sea a panoramic villa  ...                      2     NaN\n",
              "\n",
              "[5 rows x 18 columns]"
            ]
          },
          "metadata": {},
          "execution_count": 3
        }
      ]
    },
    {
      "cell_type": "markdown",
      "metadata": {
        "id": "6-B_qtEaYEd-"
      },
      "source": [
        "### **Q1. Quantos atributos (variáveis) e quantas entradas o nosso conjunto de dados possui? Quais os tipos das variáveis?**"
      ]
    },
    {
      "cell_type": "code",
      "metadata": {
        "id": "TFRK0tniLV-G",
        "outputId": "c742d1be-6aee-4345-dde6-c3ac99ba42de",
        "colab": {
          "base_uri": "https://localhost:8080/"
        }
      },
      "source": [
        "print('O dataset possui: ')\n",
        "print('{} entradas'.format(df.shape[0]))\n",
        "print('{} variáveis'.format(df.shape[1]))\n",
        "print('\\n')\n",
        "print('Abaixo estão listados os tipos de cada variável:')\n",
        "print(df.dtypes)"
      ],
      "execution_count": 4,
      "outputs": [
        {
          "output_type": "stream",
          "name": "stdout",
          "text": [
            "O dataset possui: \n",
            "48066 entradas\n",
            "18 variáveis\n",
            "\n",
            "\n",
            "Abaixo estão listados os tipos de cada variável:\n",
            "id                                  int64\n",
            "name                               object\n",
            "host_id                             int64\n",
            "host_name                          object\n",
            "neighbourhood_group               float64\n",
            "neighbourhood                      object\n",
            "latitude                          float64\n",
            "longitude                         float64\n",
            "room_type                          object\n",
            "price                               int64\n",
            "minimum_nights                      int64\n",
            "number_of_reviews                   int64\n",
            "last_review                        object\n",
            "reviews_per_month                 float64\n",
            "calculated_host_listings_count      int64\n",
            "availability_365                    int64\n",
            "number_of_reviews_ltm               int64\n",
            "license                            object\n",
            "dtype: object\n"
          ]
        }
      ]
    },
    {
      "cell_type": "markdown",
      "metadata": {
        "id": "yz1urSUGW9iE"
      },
      "source": [
        "### **Q2. Qual a porcentagem de valores ausentes no *dataset*?**"
      ]
    },
    {
      "cell_type": "code",
      "metadata": {
        "id": "plk2FjbCXOqP",
        "outputId": "4042ce88-a0bc-4a22-f109-e45fc2160191",
        "colab": {
          "base_uri": "https://localhost:8080/"
        }
      },
      "source": [
        "print(df.isnull().sum().sort_values(ascending=False) / df.shape[0])\n",
        "print('\\n')\n",
        "print('Conclusão Q2: neighbourhood_group e license serão descartadas na análise, pois pela quantidade de valores nulo no dataset, pouco acrescentam nos insights')"
      ],
      "execution_count": 5,
      "outputs": [
        {
          "output_type": "stream",
          "name": "stdout",
          "text": [
            "neighbourhood_group               1.000000\n",
            "license                           0.982025\n",
            "reviews_per_month                 0.305934\n",
            "last_review                       0.305934\n",
            "host_name                         0.001227\n",
            "name                              0.000062\n",
            "longitude                         0.000000\n",
            "host_id                           0.000000\n",
            "neighbourhood                     0.000000\n",
            "latitude                          0.000000\n",
            "room_type                         0.000000\n",
            "number_of_reviews_ltm             0.000000\n",
            "price                             0.000000\n",
            "minimum_nights                    0.000000\n",
            "number_of_reviews                 0.000000\n",
            "calculated_host_listings_count    0.000000\n",
            "availability_365                  0.000000\n",
            "id                                0.000000\n",
            "dtype: float64\n",
            "\n",
            "\n",
            "Conclusão Q2: neighbourhood_group e license serão descartadas na análise, pois pela quantidade de valores nulo no dataset, pouco acrescentam nos insights\n"
          ]
        }
      ]
    },
    {
      "cell_type": "markdown",
      "metadata": {
        "id": "iHXvvHIxaoNc"
      },
      "source": [
        "### **Q3. Qual o tipo de distribuição das variáveis?** "
      ]
    },
    {
      "cell_type": "code",
      "metadata": {
        "id": "q2wWSfeRbmBo",
        "outputId": "60f76d8c-e93f-4dcd-d4cb-4dd8eab5cd91",
        "colab": {
          "base_uri": "https://localhost:8080/",
          "height": 607
        }
      },
      "source": [
        "df.hist(bins = 15, figsize =(15, 10), color='green');"
      ],
      "execution_count": 6,
      "outputs": [
        {
          "output_type": "display_data",
          "data": {
            "image/png": "[encoded data removed]",
            "text/plain": [
              "<Figure size 1080x720 with 12 Axes>"
            ]
          },
          "metadata": {
            "needs_background": "light"
          }
        }
      ]
    },
    {
      "cell_type": "markdown",
      "source": [
        "#### Das colunas numéricas plotadas acima nos histogramas, destaco sobretudo essas abaixo:"
      ],
      "metadata": {
        "id": "hx1X43YIWhNu"
      }
    },
    {
      "cell_type": "code",
      "source": [
        "df[['price', 'minimum_nights', 'number_of_reviews', 'reviews_per_month', 'calculated_host_listings_count', 'availability_365', 'number_of_reviews_ltm']].describe()"
      ],
      "metadata": {
        "id": "CW_XvXAkVeyZ",
        "outputId": "f424a72d-328f-49b1-ba4f-e6f4449f781c",
        "colab": {
          "base_uri": "https://localhost:8080/",
          "height": 300
        }
      },
      "execution_count": 7,
      "outputs": [
        {
          "output_type": "execute_result",
          "data": {
            "text/html": [
              "\n",
              "  <div id=\"df-3237ec89-4fd5-4023-b5ce-913f51e26534\">\n",
              "    <div class=\"colab-df-container\">\n",
              "      <div>\n",
              "<style scoped>\n",
              "    .dataframe tbody tr th:only-of-type {\n",
              "        vertical-align: middle;\n",
              "    }\n",
              "\n",
              "    .dataframe tbody tr th {\n",
              "        vertical-align: top;\n",
              "    }\n",
              "\n",
              "    .dataframe thead th {\n",
              "        text-align: right;\n",
              "    }\n",
              "</style>\n",
              "<table border=\"1\" class=\"dataframe\">\n",
              "  <thead>\n",
              "    <tr style=\"text-align: right;\">\n",
              "      <th></th>\n",
              "      <th>price</th>\n",
              "      <th>minimum_nights</th>\n",
              "      <th>number_of_reviews</th>\n",
              "      <th>reviews_per_month</th>\n",
              "      <th>calculated_host_listings_count</th>\n",
              "      <th>availability_365</th>\n",
              "      <th>number_of_reviews_ltm</th>\n",
              "    </tr>\n",
              "  </thead>\n",
              "  <tbody>\n",
              "    <tr>\n",
              "      <th>count</th>\n",
              "      <td>48066.000000</td>\n",
              "      <td>48066.000000</td>\n",
              "      <td>48066.000000</td>\n",
              "      <td>33361.000000</td>\n",
              "      <td>48066.000000</td>\n",
              "      <td>48066.000000</td>\n",
              "      <td>48066.000000</td>\n",
              "    </tr>\n",
              "    <tr>\n",
              "      <th>mean</th>\n",
              "      <td>123.570903</td>\n",
              "      <td>3.140973</td>\n",
              "      <td>13.536367</td>\n",
              "      <td>0.510483</td>\n",
              "      <td>9.301793</td>\n",
              "      <td>251.685973</td>\n",
              "      <td>2.586506</td>\n",
              "    </tr>\n",
              "    <tr>\n",
              "      <th>std</th>\n",
              "      <td>545.896977</td>\n",
              "      <td>8.708326</td>\n",
              "      <td>32.696828</td>\n",
              "      <td>0.746587</td>\n",
              "      <td>28.459930</td>\n",
              "      <td>125.780672</td>\n",
              "      <td>5.728379</td>\n",
              "    </tr>\n",
              "    <tr>\n",
              "      <th>min</th>\n",
              "      <td>0.000000</td>\n",
              "      <td>1.000000</td>\n",
              "      <td>0.000000</td>\n",
              "      <td>0.010000</td>\n",
              "      <td>1.000000</td>\n",
              "      <td>0.000000</td>\n",
              "      <td>0.000000</td>\n",
              "    </tr>\n",
              "    <tr>\n",
              "      <th>25%</th>\n",
              "      <td>50.000000</td>\n",
              "      <td>1.000000</td>\n",
              "      <td>0.000000</td>\n",
              "      <td>0.100000</td>\n",
              "      <td>1.000000</td>\n",
              "      <td>177.000000</td>\n",
              "      <td>0.000000</td>\n",
              "    </tr>\n",
              "    <tr>\n",
              "      <th>50%</th>\n",
              "      <td>70.000000</td>\n",
              "      <td>2.000000</td>\n",
              "      <td>2.000000</td>\n",
              "      <td>0.240000</td>\n",
              "      <td>2.000000</td>\n",
              "      <td>303.000000</td>\n",
              "      <td>0.000000</td>\n",
              "    </tr>\n",
              "    <tr>\n",
              "      <th>75%</th>\n",
              "      <td>100.000000</td>\n",
              "      <td>3.000000</td>\n",
              "      <td>11.000000</td>\n",
              "      <td>0.590000</td>\n",
              "      <td>5.000000</td>\n",
              "      <td>363.000000</td>\n",
              "      <td>3.000000</td>\n",
              "    </tr>\n",
              "    <tr>\n",
              "      <th>max</th>\n",
              "      <td>21633.000000</td>\n",
              "      <td>999.000000</td>\n",
              "      <td>631.000000</td>\n",
              "      <td>11.130000</td>\n",
              "      <td>235.000000</td>\n",
              "      <td>365.000000</td>\n",
              "      <td>119.000000</td>\n",
              "    </tr>\n",
              "  </tbody>\n",
              "</table>\n",
              "</div>\n",
              "      <button class=\"colab-df-convert\" onclick=\"convertToInteractive('df-3237ec89-4fd5-4023-b5ce-913f51e26534')\"\n",
              "              title=\"Convert this dataframe to an interactive table.\"\n",
              "              style=\"display:none;\">\n",
              "        \n",
              "  <svg xmlns=\"http://www.w3.org/2000/svg\" height=\"24px\"viewBox=\"0 0 24 24\"\n",
              "       width=\"24px\">\n",
              "    <path d=\"M0 0h24v24H0V0z\" fill=\"none\"/>\n",
              "    <path d=\"M18.56 5.44l.94 2.06.94-2.06 2.06-.94-2.06-.94-.94-2.06-.94 2.06-2.06.94zm-11 1L8.5 8.5l.94-2.06 2.06-.94-2.06-.94L8.5 2.5l-.94 2.06-2.06.94zm10 10l.94 2.06.94-2.06 2.06-.94-2.06-.94-.94-2.06-.94 2.06-2.06.94z\"/><path d=\"M17.41 7.96l-1.37-1.37c-.4-.4-.92-.59-1.43-.59-.52 0-1.04.2-1.43.59L10.3 9.45l-7.72 7.72c-.78.78-.78 2.05 0 2.83L4 21.41c.39.39.9.59 1.41.59.51 0 1.02-.2 1.41-.59l7.78-7.78 2.81-2.81c.8-.78.8-2.07 0-2.86zM5.41 20L4 18.59l7.72-7.72 1.47 1.35L5.41 20z\"/>\n",
              "  </svg>\n",
              "      </button>\n",
              "      \n",
              "  <style>\n",
              "    .colab-df-container {\n",
              "      display:flex;\n",
              "      flex-wrap:wrap;\n",
              "      gap: 12px;\n",
              "    }\n",
              "\n",
              "    .colab-df-convert {\n",
              "      background-color: #E8F0FE;\n",
              "      border: none;\n",
              "      border-radius: 50%;\n",
              "      cursor: pointer;\n",
              "      display: none;\n",
              "      fill: #1967D2;\n",
              "      height: 32px;\n",
              "      padding: 0 0 0 0;\n",
              "      width: 32px;\n",
              "    }\n",
              "\n",
              "    .colab-df-convert:hover {\n",
              "      background-color: #E2EBFA;\n",
              "      box-shadow: 0px 1px 2px rgba(60, 64, 67, 0.3), 0px 1px 3px 1px rgba(60, 64, 67, 0.15);\n",
              "      fill: #174EA6;\n",
              "    }\n",
              "\n",
              "    [theme=dark] .colab-df-convert {\n",
              "      background-color: #3B4455;\n",
              "      fill: #D2E3FC;\n",
              "    }\n",
              "\n",
              "    [theme=dark] .colab-df-convert:hover {\n",
              "      background-color: #434B5C;\n",
              "      box-shadow: 0px 1px 3px 1px rgba(0, 0, 0, 0.15);\n",
              "      filter: drop-shadow(0px 1px 2px rgba(0, 0, 0, 0.3));\n",
              "      fill: #FFFFFF;\n",
              "    }\n",
              "  </style>\n",
              "\n",
              "      <script>\n",
              "        const buttonEl =\n",
              "          document.querySelector('#df-3237ec89-4fd5-4023-b5ce-913f51e26534 button.colab-df-convert');\n",
              "        buttonEl.style.display =\n",
              "          google.colab.kernel.accessAllowed ? 'block' : 'none';\n",
              "\n",
              "        async function convertToInteractive(key) {\n",
              "          const element = document.querySelector('#df-3237ec89-4fd5-4023-b5ce-913f51e26534');\n",
              "          const dataTable =\n",
              "            await google.colab.kernel.invokeFunction('convertToInteractive',\n",
              "                                                     [key], {});\n",
              "          if (!dataTable) return;\n",
              "\n",
              "          const docLinkHtml = 'Like what you see? Visit the ' +\n",
              "            '<a target=\"_blank\" href=https://colab.research.google.com/notebooks/data_table.ipynb>data table notebook</a>'\n",
              "            + ' to learn more about interactive tables.';\n",
              "          element.innerHTML = '';\n",
              "          dataTable['output_type'] = 'display_data';\n",
              "          await google.colab.output.renderOutput(dataTable, element);\n",
              "          const docLink = document.createElement('div');\n",
              "          docLink.innerHTML = docLinkHtml;\n",
              "          element.appendChild(docLink);\n",
              "        }\n",
              "      </script>\n",
              "    </div>\n",
              "  </div>\n",
              "  "
            ],
            "text/plain": [
              "              price  minimum_nights  ...  availability_365  number_of_reviews_ltm\n",
              "count  48066.000000    48066.000000  ...      48066.000000           48066.000000\n",
              "mean     123.570903        3.140973  ...        251.685973               2.586506\n",
              "std      545.896977        8.708326  ...        125.780672               5.728379\n",
              "min        0.000000        1.000000  ...          0.000000               0.000000\n",
              "25%       50.000000        1.000000  ...        177.000000               0.000000\n",
              "50%       70.000000        2.000000  ...        303.000000               0.000000\n",
              "75%      100.000000        3.000000  ...        363.000000               3.000000\n",
              "max    21633.000000      999.000000  ...        365.000000             119.000000\n",
              "\n",
              "[8 rows x 7 columns]"
            ]
          },
          "metadata": {},
          "execution_count": 7
        }
      ]
    },
    {
      "cell_type": "markdown",
      "source": [
        "A seguir, foi desenvolvida uma função para identificar a presença de outliers nas colunas numéricas do nosso dataframe. Segue a fórmula:\n",
        "\n",
        "IQR = Q3 - Q1\n",
        "\n",
        "Limite inferior = média - IQR * 1,5\n",
        "\n",
        "Limite superior = média + IQR * 1,5\n",
        "\n",
        "\n",
        "Onde:\n",
        "\n",
        "IQR: Amplitude interquartil\n",
        "\n",
        "Q1: Primeiro Quartil\n",
        "\n",
        "Q3: Terceiro Quartil\n",
        "\n",
        "\n",
        "Fonte:\n",
        "\n",
        "https://aprendendogestao.com.br/2016/08/26/identificacao-de-outliers/\n"
      ],
      "metadata": {
        "id": "6sg1fPI8EE2A"
      }
    },
    {
      "cell_type": "code",
      "source": [
        "# função para determinar a presença de outliers no dataframe\n",
        "\n",
        "def calc_outlier(q3, q1, media, max, min):\n",
        "  iqr = q3 - q1\n",
        "  lsup = media + iqr*1.5\n",
        "  linf = media - iqr*1.5\n",
        "  if max > lsup and min < linf:\n",
        "    return 'Outlier máx e mín'\n",
        "  elif  max > lsup and min > linf:\n",
        "    return 'Outlier máx'\n",
        "  elif max < lsup and min < linf:\n",
        "    return 'Outlier mín'\n",
        "  else:\n",
        "    return 'Sem outlier'"
      ],
      "metadata": {
        "id": "MxlPKL8obKR0"
      },
      "execution_count": 32,
      "outputs": []
    },
    {
      "cell_type": "markdown",
      "source": [
        "###### Price"
      ],
      "metadata": {
        "id": "UO1JKKlf390I"
      }
    },
    {
      "cell_type": "code",
      "source": [
        "print('O valor mínimo de price é %s. É muito improvável que haja uma alocação gratuita.' % min(df.price))\n",
        "print('O valor máximo de price é %s. Isso chama a atenção, pois é muito maior que Q3, que é 100.00' % max(df.price))\n",
        "print('\\n')\n",
        "print('Cálculo para achar outlier:')\n",
        "print(calc_outlier(df.price.quantile(0.75), df.price.quantile(0.25), df.price.mean(), df.price.max(), df.price.min()))"
      ],
      "metadata": {
        "id": "qDG4tz8SWvHw",
        "outputId": "10349110-53cd-4c1d-ad99-678d888bd190",
        "colab": {
          "base_uri": "https://localhost:8080/"
        }
      },
      "execution_count": 30,
      "outputs": [
        {
          "output_type": "stream",
          "name": "stdout",
          "text": [
            "O valor mínimo de price é 0. É muito improvável que haja uma alocação gratuita.\n",
            "O valor máximo de price é 21633. Isso chama a atenção, pois é muito maior que Q3, que é 100.00\n",
            "\n",
            "\n",
            "Cálculo para achar outlier:\n",
            "Outlier máx e mín\n"
          ]
        }
      ]
    },
    {
      "cell_type": "markdown",
      "source": [
        "###### Minimum_nights"
      ],
      "metadata": {
        "id": "uu6Fn2Ra5gli"
      }
    },
    {
      "cell_type": "code",
      "source": [
        "print('O valor mínimo de noites é %s. Parece razoável alugar um airbnb por apenas uma noite.' % min(df.minimum_nights))\n",
        "print('O valor máximo de noites é %s. Está estranho, pois seriam quase 3 anos de estadia' % max(df.minimum_nights))\n",
        "print('\\n')\n",
        "print('Cálculo para achar outlier:')\n",
        "print(calc_outlier(df.minimum_nights.quantile(0.75), df.minimum_nights.quantile(0.25), df.minimum_nights.mean(), df.minimum_nights.max(), df.minimum_nights.min()))"
      ],
      "metadata": {
        "id": "eBs2X35L5l0O",
        "colab": {
          "base_uri": "https://localhost:8080/"
        },
        "outputId": "176ef2e7-2572-4eec-e499-3c08dda54663"
      },
      "execution_count": 31,
      "outputs": [
        {
          "output_type": "stream",
          "name": "stdout",
          "text": [
            "O valor mínimo de price é 1. É muito improvável que haja uma alocação gratuita.\n",
            "O valor máximo de price é 999. Isso chama a atenção, pois é muito maior que Q3, que é 100.00\n",
            "\n",
            "\n",
            "Cálculo para achar outlier:\n",
            "Outlier máx\n"
          ]
        }
      ]
    },
    {
      "cell_type": "markdown",
      "source": [
        "###### Number_of_reviews"
      ],
      "metadata": {
        "id": "3tkfHuf3BT_n"
      }
    },
    {
      "cell_type": "code",
      "source": [
        "print('ATENÇÃO: Para o número de reviews, seria interessante que o dataset tivesse a informação da data de início de alocações no airbnb.\\n')\n",
        "print('O número mínimo de reviews é %s.' % min(df.number_of_reviews))\n",
        "print('O número máximo de reviews é %s. Está estranho, pois seriam quase 3 anos de estadia' % max(df.number_of_reviews))\n",
        "print('\\n')\n",
        "print('Cálculo para achar outlier:')\n",
        "print(calc_outlier(df.number_of_reviews.quantile(0.75), df.number_of_reviews.quantile(0.25), df.number_of_reviews.mean(), df.number_of_reviews.max(), df.number_of_reviews.min()))\n",
        "print('\\nComo 0 não foi considerado um outlier no limite inferior, acreditamos que no dataset constem muitas alocações novas na plataforma do airbnb. Logo, ainda não foi possível o acúmulo de reviews, mas é apenas uma hipótese.')"
      ],
      "metadata": {
        "id": "eLXAk-o9BUGd",
        "outputId": "0092746a-1aa9-4773-83f6-c52b54d7687f",
        "colab": {
          "base_uri": "https://localhost:8080/"
        }
      },
      "execution_count": 36,
      "outputs": [
        {
          "output_type": "stream",
          "name": "stdout",
          "text": [
            "ATENÇÃO: Para o número de reviews, seria interessante que o dataset tivesse a informação da data de início de alocações no airbnb.\n",
            "\n",
            "O número mínimo de reviews é 0.\n",
            "O número máximo de reviews é 631. Está estranho, pois seriam quase 3 anos de estadia\n",
            "\n",
            "\n",
            "Cálculo para achar outlier:\n",
            "Outlier máx\n",
            "\n",
            "Como 0 não foi considerado um outlier no limite inferior, acreditamos que no dataset constem muitas alocações novas na plataforma do airbnb. Logo, ainda não foi possível o acúmulo de reviews, mas é apenas uma hipótese.\n"
          ]
        }
      ]
    },
    {
      "cell_type": "markdown",
      "source": [
        "###### Reviews_per_month"
      ],
      "metadata": {
        "id": "9IvtQqKrHgW9"
      }
    },
    {
      "cell_type": "code",
      "source": [
        "print('O número mínimo de reviews por mês é %s.' % min(df.reviews_per_month))\n",
        "print('O número máximo de reviews por mês é %s.' % max(df.reviews_per_month))\n",
        "print('\\n')\n",
        "print('Cálculo para achar outlier:')\n",
        "print(calc_outlier(df.reviews_per_month.quantile(0.75), df.reviews_per_month.quantile(0.25), df.reviews_per_month.mean(), df.reviews_per_month.max(), df.reviews_per_month.min()))"
      ],
      "metadata": {
        "id": "QubO1EsqHgdx",
        "outputId": "7ee598a4-f57f-4b95-ef71-7ddd5629e1aa",
        "colab": {
          "base_uri": "https://localhost:8080/"
        }
      },
      "execution_count": 38,
      "outputs": [
        {
          "output_type": "stream",
          "name": "stdout",
          "text": [
            "O número mínimo de reviews por mês é 0.01.\n",
            "O número máximo de reviews por mês é 11.13.\n",
            "\n",
            "\n",
            "Cálculo para achar outlier:\n",
            "Outlier máx\n"
          ]
        }
      ]
    },
    {
      "cell_type": "markdown",
      "source": [
        "###### Calculated_host_listings_count"
      ],
      "metadata": {
        "id": "uZJfmM_sIeyZ"
      }
    },
    {
      "cell_type": "code",
      "source": [
        "print('O número mínimo de alocações do host é %s.' % min(df.calculated_host_listings_count))\n",
        "print('O número máximo de alocações do host é %s. É bem improvável que um mês host tenha tantas alocações assim no airbnb' % max(df.calculated_host_listings_count))\n",
        "print('\\n')\n",
        "print('Cálculo para achar outlier:')\n",
        "print(calc_outlier(df.calculated_host_listings_count.quantile(0.75), df.calculated_host_listings_count.quantile(0.25), df.calculated_host_listings_count.mean(), df.calculated_host_listings_count.max(), df.calculated_host_listings_count.min()))\n",
        "print('\\nChama atenção o 1 ter ficado como outlier. A média de alocações por host é de %s' % round(df.calculated_host_listings_count.mean(), 2))"
      ],
      "metadata": {
        "id": "5UuAvCKQIe5S",
        "outputId": "9b17c87f-f986-4ee0-e13a-3bc634311360",
        "colab": {
          "base_uri": "https://localhost:8080/"
        }
      },
      "execution_count": 45,
      "outputs": [
        {
          "output_type": "stream",
          "name": "stdout",
          "text": [
            "O número mínimo de alocações do host é 1.\n",
            "O número máximo de alocações do host é 235. É bem improvável que um mês host tenha tantas alocações assim no airbnb\n",
            "\n",
            "\n",
            "Cálculo para achar outlier:\n",
            "Outlier máx e mín\n",
            "\n",
            "Chama atenção o 1 ter ficado como outlier. A média de alocações por host é de 9.3\n"
          ]
        }
      ]
    },
    {
      "cell_type": "markdown",
      "source": [
        "###### Availability_365"
      ],
      "metadata": {
        "id": "QywTbjBSJ6cc"
      }
    },
    {
      "cell_type": "code",
      "source": [
        "print('O número mínimo de dias disponíveis da alocação é %s.' % min(df.availability_365))\n",
        "print('O número máximo de dias disponíveis da alocação é %s.' % max(df.availability_365))\n",
        "print('\\n')\n",
        "print('Cálculo para achar outlier:')\n",
        "print(calc_outlier(df.availability_365.quantile(0.75), df.availability_365.quantile(0.25), df.availability_365.mean(), df.availability_365.max(), df.availability_365.min()))\n",
        "print('Não há outlier para dias disponíveis da alocação no ano')"
      ],
      "metadata": {
        "id": "827qc4_zJ6jJ",
        "outputId": "7acba720-5cb8-4727-94b8-d33ca7fea418",
        "colab": {
          "base_uri": "https://localhost:8080/"
        }
      },
      "execution_count": 48,
      "outputs": [
        {
          "output_type": "stream",
          "name": "stdout",
          "text": [
            "O número mínimo de dias disponíveis da alocação é 0.\n",
            "O número máximo de dias disponíveis da alocação é 365.\n",
            "\n",
            "\n",
            "Cálculo para achar outlier:\n",
            "Sem outlier\n",
            "Não há outlier para dias disponíveis da alocação no ano\n"
          ]
        }
      ]
    },
    {
      "cell_type": "markdown",
      "source": [
        "###### Number_of_reviews_ltm"
      ],
      "metadata": {
        "id": "ncvUt63CKyxZ"
      }
    },
    {
      "cell_type": "code",
      "source": [
        "print('O número mínimo de reviews nos últimos 12 meses é %s.' % min(df.number_of_reviews_ltm))\n",
        "print('O número máximo de reviews nos últimos 12 meses é %s.' % max(df.number_of_reviews_ltm))\n",
        "print('\\n')\n",
        "print('Cálculo para achar outlier:')\n",
        "print(calc_outlier(df.number_of_reviews_ltm.quantile(0.75), df.number_of_reviews_ltm.quantile(0.25), df.number_of_reviews_ltm.mean(), df.number_of_reviews_ltm.max(), df.number_of_reviews_ltm.min()))\n",
        "print('O outlier cai de 631 durante todo o tempo de atividade das alocações para 119 se considerarmos os últimos 12 meses.')"
      ],
      "metadata": {
        "id": "HG09n-udKy7J",
        "outputId": "ca4534d5-6e28-490a-c2e2-547b6447de54",
        "colab": {
          "base_uri": "https://localhost:8080/"
        }
      },
      "execution_count": 56,
      "outputs": [
        {
          "output_type": "stream",
          "name": "stdout",
          "text": [
            "O número mínimo de reviews nos últimos 12 meses é 0.\n",
            "O número máximo de reviews nos últimos 12 meses é 119.\n",
            "\n",
            "\n",
            "Cálculo para achar outlier:\n",
            "Outlier máx\n",
            "O outlier cai de 631 durante todo o tempo de atividade das alocações para 119 se considerarmos os últimos 12 meses.\n"
          ]
        }
      ]
    },
    {
      "cell_type": "markdown",
      "metadata": {
        "id": "7x4aw1j5wNmn"
      },
      "source": [
        "### **Q4. Qual a média dos preços de aluguel?**"
      ]
    },
    {
      "cell_type": "code",
      "metadata": {
        "id": "ff-8gUahLk-C",
        "colab": {
          "base_uri": "https://localhost:8080/"
        },
        "outputId": "a3731c36-1e45-44a6-e5be-cedf2d6f39d1"
      },
      "source": [
        "# ver a média da coluna `price``\n",
        "print('A média de preços de aluguel é {} euros'.format(round(df.price.mean(), 2)))"
      ],
      "execution_count": 65,
      "outputs": [
        {
          "output_type": "stream",
          "name": "stdout",
          "text": [
            "A média de preços de aluguel é 123.57 euros\n"
          ]
        }
      ]
    },
    {
      "cell_type": "markdown",
      "metadata": {
        "id": "IXn2oIo5qx-w"
      },
      "source": [
        "### **Q4. Qual a correlação existente entre as variáveis**"
      ]
    },
    {
      "cell_type": "code",
      "metadata": {
        "id": "x2ayzBajqxyd"
      },
      "source": [
        "# criar uma matriz de correlação\n",
        "\n",
        "# mostrar a matriz de correlação\n"
      ],
      "execution_count": 13,
      "outputs": []
    },
    {
      "cell_type": "code",
      "metadata": {
        "id": "91UujDr6ueqE"
      },
      "source": [
        "# plotar um heatmap a partir das correlações\n"
      ],
      "execution_count": 14,
      "outputs": []
    },
    {
      "cell_type": "markdown",
      "metadata": {
        "id": "7b6RMWpuHKN-"
      },
      "source": [
        "### **Q5. Qual o tipo de imóvel mais alugado no Airbnb?**"
      ]
    },
    {
      "cell_type": "code",
      "metadata": {
        "id": "ueLPNWvPHgfB"
      },
      "source": [
        "# mostrar a quantidade de cada tipo de imóvel disponível\n"
      ],
      "execution_count": 15,
      "outputs": []
    },
    {
      "cell_type": "code",
      "metadata": {
        "id": "EvwoO-XAHhIm"
      },
      "source": [
        "# mostrar a porcentagem de cada tipo de imóvel disponível\n"
      ],
      "execution_count": 16,
      "outputs": []
    },
    {
      "cell_type": "markdown",
      "metadata": {
        "id": "MFa5NbnLJMcd"
      },
      "source": [
        "### **Q6. Qual a localidade mais cara do dataset?**\n",
        "\n"
      ]
    },
    {
      "cell_type": "code",
      "metadata": {
        "id": "MD_xa143JZpi"
      },
      "source": [
        "# ver preços por bairros, na média\n"
      ],
      "execution_count": 17,
      "outputs": []
    },
    {
      "cell_type": "code",
      "metadata": {
        "id": "UxVJqJ_3W59I"
      },
      "source": [
        "# plotar os imóveis pela latitude-longitude\n"
      ],
      "execution_count": 18,
      "outputs": []
    },
    {
      "cell_type": "markdown",
      "metadata": {
        "id": "vTneAMRUYvr1"
      },
      "source": [
        "### **Q7. Qual é a média do mínimo de noites para aluguel (minimum_nights)?**"
      ]
    },
    {
      "cell_type": "code",
      "metadata": {
        "id": "_VzNhrEgY82N"
      },
      "source": [
        "# ver a média da coluna `minimum_nights``"
      ],
      "execution_count": 19,
      "outputs": []
    },
    {
      "cell_type": "markdown",
      "metadata": {
        "id": "GkvAg623RjoR"
      },
      "source": [
        "## Conclusões\n"
      ]
    },
    {
      "cell_type": "markdown",
      "metadata": {
        "id": "rbZ3Hsy9Ypw8"
      },
      "source": [
        ""
      ]
    }
  ]
}